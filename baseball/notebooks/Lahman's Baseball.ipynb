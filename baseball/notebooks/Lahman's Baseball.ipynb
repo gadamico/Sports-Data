{
 "cells": [
  {
   "cell_type": "markdown",
   "metadata": {},
   "source": [
    "# The Worst Hitter in MLB History"
   ]
  },
  {
   "cell_type": "code",
   "execution_count": null,
   "metadata": {},
   "outputs": [],
   "source": [
    "import pandas as pd\n",
    "batting = pd.read_csv('../data/Batting.csv')"
   ]
  },
  {
   "cell_type": "markdown",
   "metadata": {},
   "source": [
    "Data courtesy of [Sean Lahman's Baseball](http://www.seanlahman.com/baseball-archive/statistics/)"
   ]
  },
  {
   "cell_type": "code",
   "execution_count": null,
   "metadata": {},
   "outputs": [],
   "source": [
    "import scipy.stats as stats\n",
    "import matplotlib.pyplot as plt\n",
    "import numpy as np"
   ]
  },
  {
   "cell_type": "markdown",
   "metadata": {},
   "source": [
    "## Exploring the Batting Dataset"
   ]
  },
  {
   "cell_type": "code",
   "execution_count": null,
   "metadata": {
    "scrolled": true
   },
   "outputs": [],
   "source": [
    "batting.head()"
   ]
  },
  {
   "cell_type": "code",
   "execution_count": null,
   "metadata": {},
   "outputs": [],
   "source": [
    "batting.columns"
   ]
  },
  {
   "cell_type": "code",
   "execution_count": null,
   "metadata": {
    "scrolled": true
   },
   "outputs": [],
   "source": [
    "batting.tail()"
   ]
  },
  {
   "cell_type": "markdown",
   "metadata": {},
   "source": [
    "### Checking out Pete Rose's Career Numbers"
   ]
  },
  {
   "cell_type": "code",
   "execution_count": null,
   "metadata": {},
   "outputs": [],
   "source": [
    "batting[batting['playerID'] == 'rosepe01']"
   ]
  },
  {
   "cell_type": "markdown",
   "metadata": {},
   "source": [
    "### Adding a `seasons` column"
   ]
  },
  {
   "cell_type": "code",
   "execution_count": null,
   "metadata": {},
   "outputs": [],
   "source": [
    "batting['seasons'] = batting['stint'].map(lambda x: x if x == 1 else 0)"
   ]
  },
  {
   "cell_type": "markdown",
   "metadata": {},
   "source": [
    "### Adding a `year_rect` column\n",
    "\n",
    "This eliminates multiple copies of the year for when players played with multiple teams in the same season. These two columns together will help when defining the `Era` column below."
   ]
  },
  {
   "cell_type": "code",
   "execution_count": null,
   "metadata": {},
   "outputs": [],
   "source": [
    "def year_correct(row):\n",
    "    \"\"\"\n",
    "    This function replaces multiple copies of the same year\n",
    "    in a player's record with 0's.\n",
    "    \"\"\"\n",
    "    if row['stint'] != 1:\n",
    "        return 0\n",
    "    else:\n",
    "        return row['yearID']"
   ]
  },
  {
   "cell_type": "code",
   "execution_count": null,
   "metadata": {},
   "outputs": [],
   "source": [
    "batting['year_rect'] = batting.apply(year_correct, axis = 1)"
   ]
  },
  {
   "cell_type": "code",
   "execution_count": null,
   "metadata": {},
   "outputs": [],
   "source": [
    "batting[batting['playerID'] == 'rosepe01']"
   ]
  },
  {
   "cell_type": "markdown",
   "metadata": {},
   "source": [
    "### Grouping By `playerID` and then Summing Will Show Career Totals"
   ]
  },
  {
   "cell_type": "code",
   "execution_count": null,
   "metadata": {},
   "outputs": [],
   "source": [
    "players = batting.groupby('playerID').sum()"
   ]
  },
  {
   "cell_type": "markdown",
   "metadata": {},
   "source": [
    "#### Hank Aaron, for example"
   ]
  },
  {
   "cell_type": "code",
   "execution_count": null,
   "metadata": {},
   "outputs": [],
   "source": [
    "players[players.index == 'aaronha01']"
   ]
  },
  {
   "cell_type": "markdown",
   "metadata": {},
   "source": [
    "### Adding a Batting Average Column"
   ]
  },
  {
   "cell_type": "code",
   "execution_count": null,
   "metadata": {},
   "outputs": [],
   "source": [
    "players['avg'] = players['H'] / players['AB']\n",
    "players[players.index == 'rosepe01']"
   ]
  },
  {
   "cell_type": "markdown",
   "metadata": {},
   "source": [
    "### Adding a Slugging Average Column"
   ]
  },
  {
   "cell_type": "code",
   "execution_count": null,
   "metadata": {},
   "outputs": [],
   "source": [
    "players['slg'] = (players['H'] + players['2B'] + 2 * players['3B'] + 3 * players['HR']) / players['AB']"
   ]
  },
  {
   "cell_type": "code",
   "execution_count": null,
   "metadata": {
    "scrolled": true
   },
   "outputs": [],
   "source": [
    "players.head()"
   ]
  },
  {
   "cell_type": "markdown",
   "metadata": {},
   "source": [
    "## Finding the Worst Hitter\n",
    "\n",
    "Beging by simply sorting according to batting average."
   ]
  },
  {
   "cell_type": "code",
   "execution_count": null,
   "metadata": {},
   "outputs": [],
   "source": [
    "players['avg'].sort_values()"
   ]
  },
  {
   "cell_type": "markdown",
   "metadata": {},
   "source": [
    "But this is obviously not good enough. By this measure, any player who played in only a few games but never got a hit is at the top (or bottom) of the list. But let's think like a Bayesian!"
   ]
  },
  {
   "cell_type": "markdown",
   "metadata": {},
   "source": [
    "### Bringing in Bayes\n",
    "\n",
    "New plan: Find some average batting average to use as a *prior* probability distribution. Then treat the weight of a player's career as the *evidence* upon which to conditionalize. This will remove the players with very few career appearances from the top of our worst hitters list, since the prior (if we choose it appropriately) will dominate over the new evidence.  Inversely, players with long careers should have their actual numbers dominate over the prior.\n",
    "\n",
    "Now getting a hit is a binary process (hit or no hit), so we can use the [beta-binomial distribution](https://en.wikipedia.org/wiki/Beta-binomial_distribution), since the beta distribution is a [conjugate prior](https://en.wikipedia.org/wiki/Conjugate_prior) for a binomial likelihood.\n",
    "\n",
    "Taking advantage of conjugacy here means that I can simply add a player's career hits and at-bats to the prior's hits and at-bats to get an updated estimate of a player's batting average."
   ]
  },
  {
   "cell_type": "markdown",
   "metadata": {},
   "source": [
    "#### Setting the prior\n",
    "\n",
    "I'm going to use .260 as an average MLB batting average."
   ]
  },
  {
   "cell_type": "code",
   "execution_count": null,
   "metadata": {},
   "outputs": [],
   "source": [
    "# Prior\n",
    "\n",
    "successes = 26\n",
    "failures = 74\n",
    "alpha_prior = successes + 1\n",
    "beta_prior = failures + 1\n",
    "\n",
    "beta_dist = stats.beta(alpha_prior, beta_prior)\n",
    "\n",
    "fig, ax = plt.subplots(figsize=(8, 5))\n",
    "pvals = np.linspace(0, 1, 101)\n",
    "prior = beta_dist.pdf(pvals)\n",
    "\n",
    "ax.plot(pvals, prior, lw=3)\n",
    "ax.set_xlabel('p', fontsize=16)\n",
    "ax.set_ylabel('P(p | a,b)\\n', fontsize=16)\n",
    "ax.set_title(f'Beta PDF for alpha={alpha_prior}, beta={beta_prior}\\n',\n",
    "            fontsize=18)\n",
    "plt.show()"
   ]
  },
  {
   "cell_type": "markdown",
   "metadata": {},
   "source": [
    "#### Adding a Maximum A Posteriori Column"
   ]
  },
  {
   "cell_type": "code",
   "execution_count": null,
   "metadata": {},
   "outputs": [],
   "source": [
    "# A:\n",
    "\n",
    "players['MAP'] = (players['H'] + 26) / (players['AB'] + 100)"
   ]
  },
  {
   "cell_type": "code",
   "execution_count": null,
   "metadata": {
    "scrolled": true
   },
   "outputs": [],
   "source": [
    "players.sort_values('MAP', ascending = False).head()"
   ]
  },
  {
   "cell_type": "code",
   "execution_count": null,
   "metadata": {},
   "outputs": [],
   "source": [
    "players = players.reset_index()"
   ]
  },
  {
   "cell_type": "markdown",
   "metadata": {},
   "source": [
    "#### Adding an `Era` Column"
   ]
  },
  {
   "cell_type": "code",
   "execution_count": null,
   "metadata": {},
   "outputs": [],
   "source": [
    "players = players.rename({'MAP': 'MAP_avg'}, axis = 1)\n",
    "\n",
    "players['Era'] = (players['year_rect'] / players['seasons']).astype(int)"
   ]
  },
  {
   "cell_type": "markdown",
   "metadata": {},
   "source": [
    "Some players had perfect averages (going 1 for 1 in their careers or the like). Their new `MAP_avg` scores should be close to .260."
   ]
  },
  {
   "cell_type": "code",
   "execution_count": null,
   "metadata": {},
   "outputs": [],
   "source": [
    "players[players['avg'] == max(players['avg'])].head()"
   ]
  },
  {
   "cell_type": "markdown",
   "metadata": {},
   "source": [
    "#### Experimenting with Different Numbers for the Prior's Hits and At-Bats"
   ]
  },
  {
   "cell_type": "code",
   "execution_count": null,
   "metadata": {},
   "outputs": [],
   "source": [
    "def avg_prior(h, ab):\n",
    "    \"\"\"\n",
    "    This function takes in a number of hits and a number of at-bats\n",
    "    to use as prior values for the Bayesian MAP Method. It returns\n",
    "    the top (worst) hitter according to the MAP average. The ratio\n",
    "    of hits to at-bats should be (near) 26:100.\n",
    "    \"\"\"\n",
    "    players['MAP_avg'] = (players['H'] + h) / (players['AB'] + ab)\n",
    "    return players.sort_values('MAP_avg',\n",
    "                               #ascending=False\n",
    "                              ).head(10)['playerID']"
   ]
  },
  {
   "cell_type": "markdown",
   "metadata": {},
   "source": [
    "The following code will find the worst hitter for prior values of at-bats between 10 and 5000, counting by tens."
   ]
  },
  {
   "cell_type": "code",
   "execution_count": null,
   "metadata": {},
   "outputs": [],
   "source": [
    "worst = []\n",
    "for i in range(10, 5001, 10):\n",
    "    worst.append(avg_prior(0.26 * i, i))"
   ]
  },
  {
   "cell_type": "markdown",
   "metadata": {},
   "source": [
    "For just ten at-bats, the worst hitter is Ron Herbel."
   ]
  },
  {
   "cell_type": "code",
   "execution_count": null,
   "metadata": {},
   "outputs": [],
   "source": [
    "worst[0]"
   ]
  },
  {
   "cell_type": "code",
   "execution_count": null,
   "metadata": {},
   "outputs": [],
   "source": [
    "worst[169]"
   ]
  },
  {
   "cell_type": "code",
   "execution_count": null,
   "metadata": {},
   "outputs": [],
   "source": [
    "worst[170]"
   ]
  },
  {
   "cell_type": "markdown",
   "metadata": {},
   "source": [
    "At precisely 1705 at-bats, the worst hitter switches from Bob Buhl to Bill Bergen."
   ]
  },
  {
   "cell_type": "code",
   "execution_count": null,
   "metadata": {},
   "outputs": [],
   "source": [
    "avg_prior(0.26 * 1704, 1704)"
   ]
  },
  {
   "cell_type": "code",
   "execution_count": null,
   "metadata": {},
   "outputs": [],
   "source": [
    "avg_prior(0.26 * 1705, 1705)"
   ]
  },
  {
   "cell_type": "code",
   "execution_count": null,
   "metadata": {},
   "outputs": [],
   "source": [
    "worst"
   ]
  },
  {
   "cell_type": "code",
   "execution_count": null,
   "metadata": {},
   "outputs": [],
   "source": [
    "players[players['playerID'] == 'herbero01']"
   ]
  },
  {
   "cell_type": "markdown",
   "metadata": {},
   "source": [
    "Ron Herbel: pitcher for the San Francisco Giants, San Diego Padres, New York Mets, and Atlanta Braves."
   ]
  },
  {
   "cell_type": "code",
   "execution_count": null,
   "metadata": {},
   "outputs": [],
   "source": [
    "players[players['playerID'] == 'chancde01']"
   ]
  },
  {
   "cell_type": "markdown",
   "metadata": {},
   "source": [
    "Dean Chance: pitcher for the Los Angeles / California Angels, Minnesota Twins, Cleveland Indians, New York Mets, and Detroit Tigers."
   ]
  },
  {
   "cell_type": "code",
   "execution_count": null,
   "metadata": {},
   "outputs": [],
   "source": [
    "players[players['playerID'] == 'buhlbo01']"
   ]
  },
  {
   "cell_type": "markdown",
   "metadata": {},
   "source": [
    "Bob Buhl: pitcher for the Milwaukee Braves, Chicago Cubs, and Philadelphia Phillies."
   ]
  },
  {
   "cell_type": "code",
   "execution_count": null,
   "metadata": {},
   "outputs": [],
   "source": [
    "players[players['playerID'] == 'bergebi01']"
   ]
  },
  {
   "cell_type": "markdown",
   "metadata": {},
   "source": [
    "Bill Bergen: Cincinnati Reds and Brooklyn Superbas / Dodgers."
   ]
  },
  {
   "cell_type": "markdown",
   "metadata": {},
   "source": [
    "**Aside on the Best Hitters**\n",
    "\n",
    "To find the *best* hitters, we can re-use our `avg_prior()` function, but simply include an `ascending=False` in the `.sort_values()` call."
   ]
  },
  {
   "cell_type": "code",
   "execution_count": null,
   "metadata": {},
   "outputs": [],
   "source": [
    "best = []\n",
    "for i in range(10, 5001, 10):\n",
    "    best.append(avg_prior(0.26 * i, i))\n",
    "\n",
    "best"
   ]
  },
  {
   "cell_type": "markdown",
   "metadata": {},
   "source": [
    "For almost all values of at-bats between 10 and 5000 (counting again by tens), the best hitter is Ty Cobb. But there are two names for 10 and 20 at-bats that I don't recognize."
   ]
  },
  {
   "cell_type": "code",
   "execution_count": null,
   "metadata": {},
   "outputs": [],
   "source": [
    "players[players['playerID'] == 'jansera01']"
   ]
  },
  {
   "cell_type": "markdown",
   "metadata": {},
   "source": [
    "Ray Jansen: St. Louis Browns."
   ]
  },
  {
   "cell_type": "code",
   "execution_count": null,
   "metadata": {},
   "outputs": [],
   "source": [
    "players[players['playerID'] == 'sherlvi01']"
   ]
  },
  {
   "cell_type": "markdown",
   "metadata": {},
   "source": [
    "Vince Sherlock: Brooklyn Dodgers."
   ]
  },
  {
   "cell_type": "code",
   "execution_count": null,
   "metadata": {},
   "outputs": [],
   "source": [
    "players[players['playerID'] == 'cobbty01']"
   ]
  },
  {
   "cell_type": "markdown",
   "metadata": {},
   "source": [
    "### Looking for Non-Pitchers\n",
    "\n",
    "Pitchers are specialized players who are generally given a bit of a break when it comes to hitting, and so really what I'm after is the worst hitter *who was not a pitcher*.\n",
    "\n",
    "For these next cells I change the function to print out the top ten instead of just the top one."
   ]
  },
  {
   "cell_type": "code",
   "execution_count": null,
   "metadata": {},
   "outputs": [],
   "source": [
    "avg_prior(26, 100)"
   ]
  },
  {
   "cell_type": "markdown",
   "metadata": {},
   "source": [
    "Ben Sheets: pitcher for the Milwaukee Brewers, Oakland Athletics, and Atlanta Braves.\n",
    "\n",
    "Dick Ellsworth: pitcher for the Chicago Cubs, Philadelphia Phillies, Boston Red Sox, Cleveland Indians, and Milwaukee Brewers.\n",
    "\n",
    "Bill Hands: pitcher for the San Francisco Giants, Chicago Cubs, Minnesota Twins, and Texas Rangers.\n",
    "\n",
    "Al Leiter: pitcher for the New York Yankees, Toronto Blue Jays, Florida Marlins, and New York Mets.\n",
    "\n",
    "Sandy Koufax: pitcher for the Brooklyn / Los Angeles Dodgers.\n",
    "\n",
    "Brian Moehler: pitcher for the Detroit Tigers, Cincinnati Reds, Houston Astros, and Florida Marlins.\n",
    "\n",
    "Roger Craig: pitcher for the Brooklyn / Los Angeles Dodgers, New York Mets, St. Louis Cardinals, Cincinnati Reds, and Philadelphia Phillies."
   ]
  },
  {
   "cell_type": "code",
   "execution_count": null,
   "metadata": {},
   "outputs": [],
   "source": [
    "avg_prior(52, 200)"
   ]
  },
  {
   "cell_type": "markdown",
   "metadata": {},
   "source": [
    "Aaron Harang: pitcher for the Oakland Athletics, Cincinnati Reds, San Diego Padres, Los Angeles Dodgers, Seattle Mariners, New York Mets, Atlanta Braves, and Philadelphia Phillies.\n",
    "\n",
    "John Burkett: pitcher for the San Francisco Giants, Florida Marlins, Texas Rangers, Atlanta Braves, and Boston Red Sox.\n",
    "\n",
    "Nolan Ryan: pitcher for the New York Mets, California Angels, Houston Astros, and Texas Rangers."
   ]
  },
  {
   "cell_type": "code",
   "execution_count": null,
   "metadata": {},
   "outputs": [],
   "source": [
    "avg_prior(78, 300)"
   ]
  },
  {
   "cell_type": "markdown",
   "metadata": {},
   "source": [
    "Mickey Lolich: pitcher for the Detroit Tigers, New York Mets, and San Diego Padres."
   ]
  },
  {
   "cell_type": "code",
   "execution_count": null,
   "metadata": {},
   "outputs": [],
   "source": [
    "avg_prior(104, 400)"
   ]
  },
  {
   "cell_type": "markdown",
   "metadata": {},
   "source": [
    "Bob Friend: pitcher for the Pittsburgh Pirates, New York Yankees, and New York Mets.\n",
    "\n",
    "Milt Pappas: pitcher for the Baltimore Orioles, Cincinnati Reds, Atlanta Braves, and Chicago Cubs."
   ]
  },
  {
   "cell_type": "code",
   "execution_count": null,
   "metadata": {},
   "outputs": [],
   "source": [
    "avg_prior(130, 500)"
   ]
  },
  {
   "cell_type": "markdown",
   "metadata": {},
   "source": [
    "Jerry Koosman: pitcher for the New York Mets, Minnesota Twins, Chicago White Sox, and Philadelphia Phillies."
   ]
  },
  {
   "cell_type": "markdown",
   "metadata": {},
   "source": [
    "#### Bringing in pitching data"
   ]
  },
  {
   "cell_type": "code",
   "execution_count": null,
   "metadata": {},
   "outputs": [],
   "source": [
    "pitching = pd.read_csv('../data/Pitching.csv')"
   ]
  },
  {
   "cell_type": "markdown",
   "metadata": {},
   "source": [
    "#### Exploring the pitching data"
   ]
  },
  {
   "cell_type": "code",
   "execution_count": null,
   "metadata": {},
   "outputs": [],
   "source": [
    "pitching['playerID'].values"
   ]
  },
  {
   "cell_type": "code",
   "execution_count": null,
   "metadata": {},
   "outputs": [],
   "source": [
    "pitchers = pitching.groupby('playerID').sum()"
   ]
  },
  {
   "cell_type": "markdown",
   "metadata": {},
   "source": [
    "Somewhat crudely, we'll look for the hitters who have no pitching record whatever."
   ]
  },
  {
   "cell_type": "code",
   "execution_count": null,
   "metadata": {},
   "outputs": [],
   "source": [
    "pure_bats = [player for player in players['playerID'] if player not in\\\n",
    "             pitching['playerID'].values]"
   ]
  },
  {
   "cell_type": "code",
   "execution_count": null,
   "metadata": {},
   "outputs": [],
   "source": [
    "def also_pitch(x):\n",
    "    \"\"\"\n",
    "    This function will be used to add a column to my\n",
    "    players DataFrame that will indicate whether the\n",
    "    player ever pitched.\n",
    "    \"\"\"\n",
    "    if x['playerID'] in pure_bats:\n",
    "        return 0\n",
    "    else:\n",
    "        return 1"
   ]
  },
  {
   "cell_type": "code",
   "execution_count": null,
   "metadata": {},
   "outputs": [],
   "source": [
    "players['no_pitch'] = players.apply(also_pitch, axis = 1)"
   ]
  },
  {
   "cell_type": "code",
   "execution_count": null,
   "metadata": {},
   "outputs": [],
   "source": [
    "pure_batters = players[players['no_pitch'] == 0].copy()"
   ]
  },
  {
   "cell_type": "markdown",
   "metadata": {},
   "source": [
    "Now we'll just redo our previous MAP Method, but this time applying it only to the pure batters who didn't also pitch."
   ]
  },
  {
   "cell_type": "code",
   "execution_count": null,
   "metadata": {},
   "outputs": [],
   "source": [
    "def avg_prior_pure(h, ab):\n",
    "    \"\"\"\n",
    "    This function mimics the MAP function from before.\n",
    "    \"\"\"\n",
    "    pure_batters['MAP_avg'] = (pure_batters['H'] + h) / (pure_batters['AB'] + ab)\n",
    "    return pure_batters.sort_values('MAP_avg',\n",
    "                               # ascending = False\n",
    "                              ).head(1)['playerID']"
   ]
  },
  {
   "cell_type": "code",
   "execution_count": null,
   "metadata": {},
   "outputs": [],
   "source": [
    "worst = []\n",
    "for i in range(10, 5001, 10):\n",
    "    worst.append(avg_prior_pure(0.26 * i, i))"
   ]
  },
  {
   "cell_type": "code",
   "execution_count": null,
   "metadata": {},
   "outputs": [],
   "source": [
    "worst"
   ]
  },
  {
   "cell_type": "markdown",
   "metadata": {},
   "source": [
    "These names of pure hitters come up early in the list, but they correspond to very low numbers of at-bats as prior.\n",
    "\n",
    "Skeeter Shelton: New York Yankees.\n",
    "\n",
    "Ed Gastfield: Detroit Wolverines and Chicago White Stockings.\n",
    "\n",
    "Mike Jordan: Pittsburgh Alleghenys.\n",
    "\n",
    "John Humphries: New York Gothams and Washington Nationals.\n",
    "\n",
    "It looks like **Bill Bergen** (who came up even before we eliminated the pitchers!) is our winner here. Let's find the exact number of at-bats where Bergen comes to the \"top\". Given the output from the preceding code, it must be somewhere between 130 and 140 at-bats."
   ]
  },
  {
   "cell_type": "code",
   "execution_count": null,
   "metadata": {},
   "outputs": [],
   "source": [
    "avg_prior_pure(0.26 * 132, 132)"
   ]
  },
  {
   "cell_type": "code",
   "execution_count": null,
   "metadata": {
    "scrolled": true
   },
   "outputs": [],
   "source": [
    "avg_prior_pure(0.26 * 133, 133)"
   ]
  },
  {
   "cell_type": "markdown",
   "metadata": {},
   "source": [
    "***If we set our prior number of at-bats at 133 or more, Bill Bergen will count as the worst hitter in the history of the Major Leagues!***"
   ]
  },
  {
   "cell_type": "code",
   "execution_count": null,
   "metadata": {},
   "outputs": [],
   "source": []
  }
 ],
 "metadata": {
  "kernelspec": {
   "display_name": "Python 3",
   "language": "python",
   "name": "python3"
  },
  "language_info": {
   "codemirror_mode": {
    "name": "ipython",
    "version": 3
   },
   "file_extension": ".py",
   "mimetype": "text/x-python",
   "name": "python",
   "nbconvert_exporter": "python",
   "pygments_lexer": "ipython3",
   "version": "3.7.2"
  }
 },
 "nbformat": 4,
 "nbformat_minor": 2
}
