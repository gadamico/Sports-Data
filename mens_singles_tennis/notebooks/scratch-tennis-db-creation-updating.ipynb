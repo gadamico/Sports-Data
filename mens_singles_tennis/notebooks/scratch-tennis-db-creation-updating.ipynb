{
 "cells": [
  {
   "cell_type": "markdown",
   "metadata": {},
   "source": [
    "## Update .xls"
   ]
  },
  {
   "cell_type": "code",
   "execution_count": 1,
   "metadata": {},
   "outputs": [],
   "source": [
    "import pandas as pd\n",
    "import sqlite3"
   ]
  },
  {
   "cell_type": "code",
   "execution_count": null,
   "metadata": {},
   "outputs": [],
   "source": [
    "df = pd.read_excel('../data/Tennis Major Results.xlsx', sheet_name=2)"
   ]
  },
  {
   "cell_type": "code",
   "execution_count": null,
   "metadata": {
    "scrolled": true
   },
   "outputs": [],
   "source": [
    "df.head()"
   ]
  },
  {
   "cell_type": "code",
   "execution_count": null,
   "metadata": {},
   "outputs": [],
   "source": [
    "df.columns"
   ]
  },
  {
   "cell_type": "markdown",
   "metadata": {},
   "source": [
    "### Novak Djokovic"
   ]
  },
  {
   "cell_type": "code",
   "execution_count": null,
   "metadata": {},
   "outputs": [],
   "source": [
    "djoker = df[df['PLAYER'] == 'Djokovic, Novak'].copy()\n",
    "djoker['QF Appears'] += 2\n",
    "djoker['QF Wins'] += 2\n",
    "djoker['SF Wins'] += 2\n",
    "djoker['F Wins'] += 1\n",
    "djoker['F Losses'] += 1\n",
    "djoker['QF Pct'] = djoker['QF Wins'] / djoker['QF Appears']\n",
    "djoker['SF Pct'] = djoker['SF Wins'] / djoker['QF Wins']\n",
    "djoker['F Pct'] = djoker['F Wins'] / djoker['SF Wins']"
   ]
  },
  {
   "cell_type": "code",
   "execution_count": null,
   "metadata": {},
   "outputs": [],
   "source": [
    "djoker['Wim QF Appears'] += 1\n",
    "djoker['Wim QF Wins'] += 1\n",
    "djoker['Wim SF Wins'] += 1\n",
    "djoker['Wim F Wins'] += 1\n",
    "djoker['Wim QF Pct'] = djoker['Wim QF Wins'] / djoker['Wim QF Appears']\n",
    "djoker['Wim SF Pct'] = djoker['Wim SF Wins'] / djoker['Wim QF Wins']\n",
    "djoker['Wim F Pct'] = djoker['Wim F Wins'] / djoker['Wim SF Wins']\n",
    "djoker['US QF Appears'] += 1\n",
    "djoker['US QF Wins'] += 1\n",
    "djoker['US SF Wins'] += 1\n",
    "djoker['US F Losses'] += 1\n",
    "djoker['US QF Pct'] = djoker['US QF Wins'] / djoker['US QF Appears']\n",
    "djoker['US SF Pct'] = djoker['US SF Wins'] / djoker['US QF Wins']\n",
    "djoker['US F Pct'] = djoker['US F Wins'] / djoker['US SF Wins']"
   ]
  },
  {
   "cell_type": "code",
   "execution_count": null,
   "metadata": {},
   "outputs": [],
   "source": [
    "df[df['PLAYER'] == 'Djokovic, Novak'] = djoker"
   ]
  },
  {
   "cell_type": "markdown",
   "metadata": {},
   "source": [
    "### Matteo Berrettini"
   ]
  },
  {
   "cell_type": "code",
   "execution_count": null,
   "metadata": {},
   "outputs": [],
   "source": [
    "berrettini = df[df['PLAYER'] == 'Berrettini, Matteo'].copy()\n",
    "berrettini['QF Appears'] += 2\n",
    "berrettini['QF Wins'] += 1\n",
    "berrettini['QF Losses'] += 1\n",
    "berrettini['SF Wins'] += 1\n",
    "berrettini['F Losses'] += 1\n",
    "berrettini['QF Pct'] = berrettini['QF Wins'] / berrettini['QF Appears']\n",
    "berrettini['SF Pct'] = berrettini['SF Wins'] / berrettini['QF Wins']\n",
    "berrettini['F Pct'] = berrettini['F Wins'] / berrettini['SF Wins']\n",
    "\n",
    "berrettini['Wim QF Appears'] += 1\n",
    "berrettini['Wim QF Wins'] += 1\n",
    "berrettini['Wim SF Wins'] += 1\n",
    "berrettini['Wim F Losses'] += 1\n",
    "berrettini['Wim QF Pct'] = berrettini['Wim QF Wins'] / berrettini['Wim QF Appears']\n",
    "berrettini['Wim SF Pct'] = berrettini['Wim SF Wins'] / berrettini['Wim QF Wins']\n",
    "berrettini['Wim F Pct'] = berrettini['Wim F Wins'] / berrettini['Wim SF Wins']\n",
    "berrettini['US QF Appears'] += 1\n",
    "berrettini['US QF Losses'] += 1\n",
    "berrettini['US QF Pct'] = berrettini['US QF Wins'] / berrettini['US QF Appears']\n",
    "\n",
    "df[df['PLAYER'] == 'Berrettini, Matteo'] = berrettini"
   ]
  },
  {
   "cell_type": "markdown",
   "metadata": {},
   "source": [
    "### Denis Shapovalov"
   ]
  },
  {
   "cell_type": "code",
   "execution_count": null,
   "metadata": {},
   "outputs": [],
   "source": [
    "shapovalov = df[df['PLAYER'] == 'Shapovalov, Denis'].copy()\n",
    "shapovalov['QF Appears'] += 1\n",
    "shapovalov['QF Wins'] += 1\n",
    "shapovalov['SF Losses'] += 1\n",
    "shapovalov['QF Pct'] = shapovalov['QF Wins'] / shapovalov['QF Appears']\n",
    "shapovalov['SF Pct'] = shapovalov['SF Wins'] / shapovalov['QF Wins']\n",
    "\n",
    "shapovalov['Wim QF Appears'] += 1\n",
    "shapovalov['Wim QF Wins'] += 1\n",
    "shapovalov['Wim SF Losses'] += 1\n",
    "shapovalov['Wim QF Pct'] = shapovalov['Wim QF Wins'] / shapovalov['Wim QF Appears']\n",
    "shapovalov['Wim SF Pct'] = shapovalov['Wim SF Wins'] / shapovalov['Wim QF Wins']\n",
    "\n",
    "df[df['PLAYER'] == 'Shapovalov, Denis'] = shapovalov"
   ]
  },
  {
   "cell_type": "markdown",
   "metadata": {},
   "source": [
    "### Hubert Hurkacz"
   ]
  },
  {
   "cell_type": "code",
   "execution_count": null,
   "metadata": {},
   "outputs": [],
   "source": [
    "df = df.append({'PLAYER': 'Hurkacz, Hubert', 'QF Appears': 1, 'QF Wins': 1, 'QF Losses': 0,\n",
    "          'SF Wins': 0, 'SF Losses': 1, 'F Wins': 0, 'F Losses': 0, 'QF Pct': 1,\n",
    "          'SF Pct': 0, 'F Pct': 0, 'Aus QF Appears': 0, 'Aus QF Wins': 0,\n",
    "          'Aus QF Losses': 0, 'Aus SF Wins': 0, 'Aus SF Losses': 0, 'Aus F Wins': 0,\n",
    "          'Aus F Losses': 0, 'Aus QF Pct': 0, 'Aus SF Pct': 0, 'Aus F Pct': 0,\n",
    "          'Fr QF Appears': 0, 'Fr QF Wins': 0, 'Fr QF Losses': 0, 'Fr SF Wins': 0,\n",
    "          'Fr SF Losses': 0, 'Fr F Wins': 0, 'Fr F Losses': 0, 'Fr QF Pct': 0,\n",
    "          'Fr SF Pct': 0, 'Fr F Pct': 0, 'Wim QF Appears': 1, 'Wim QF Wins': 1,\n",
    "          'Wim QF Losses': 0, 'Wim SF Wins': 0, 'Wim SF Losses': 1, 'Wim F Wins': 0,\n",
    "          'Wim F Losses': 0, 'Wim QF Pct': 1, 'Wim SF Pct': 0, 'Wim F Pct': 0,\n",
    "          'US QF Appears': 0, 'US QF Wins': 0, 'US QF Losses': 0, 'US SF Wins': 0,\n",
    "          'US SF Losses': 0, 'US F Wins': 0, 'US F Losses': 0, 'US QF Pct': 0,\n",
    "          'US SF Pct': 0, 'US F Pct': 0}, ignore_index=True)"
   ]
  },
  {
   "cell_type": "markdown",
   "metadata": {},
   "source": [
    "### Marton Fucsovics"
   ]
  },
  {
   "cell_type": "code",
   "execution_count": null,
   "metadata": {},
   "outputs": [],
   "source": [
    "df = df.append({'PLAYER': 'Fucsovics, Marton', 'QF Appears': 1, 'QF Wins': 0, 'QF Losses': 1,\n",
    "          'SF Wins': 0, 'SF Losses': 0, 'F Wins': 0, 'F Losses': 0, 'QF Pct': 0,\n",
    "          'SF Pct': 0, 'F Pct': 0, 'Aus QF Appears': 0, 'Aus QF Wins': 0,\n",
    "          'Aus QF Losses': 0, 'Aus SF Wins': 0, 'Aus SF Losses': 0, 'Aus F Wins': 0,\n",
    "          'Aus F Losses': 0, 'Aus QF Pct': 0, 'Aus SF Pct': 0, 'Aus F Pct': 0,\n",
    "          'Fr QF Appears': 0, 'Fr QF Wins': 0, 'Fr QF Losses': 0, 'Fr SF Wins': 0,\n",
    "          'Fr SF Losses': 0, 'Fr F Wins': 0, 'Fr F Losses': 0, 'Fr QF Pct': 0,\n",
    "          'Fr SF Pct': 0, 'Fr F Pct': 0, 'Wim QF Appears': 1, 'Wim QF Wins': 0,\n",
    "          'Wim QF Losses': 1, 'Wim SF Wins': 0, 'Wim SF Losses': 0, 'Wim F Wins': 0,\n",
    "          'Wim F Losses': 0, 'Wim QF Pct': 0, 'Wim SF Pct': 0, 'Wim F Pct': 0,\n",
    "          'US QF Appears': 0, 'US QF Wins': 0, 'US QF Losses': 0, 'US SF Wins': 0,\n",
    "          'US SF Losses': 0, 'US F Wins': 0, 'US F Losses': 0, 'US QF Pct': 0,\n",
    "          'US SF Pct': 0, 'US F Pct': 0}, ignore_index=True)"
   ]
  },
  {
   "cell_type": "markdown",
   "metadata": {},
   "source": [
    "### Karen Khachanov"
   ]
  },
  {
   "cell_type": "code",
   "execution_count": null,
   "metadata": {},
   "outputs": [],
   "source": [
    "khachanov = df[df['PLAYER'] == 'Khachanov, Karen'].copy()\n",
    "khachanov['QF Appears'] += 1\n",
    "khachanov['QF Losses'] += 1\n",
    "khachanov['QF Pct'] = khachanov['QF Wins'] / khachanov['QF Appears']\n",
    "\n",
    "khachanov['Wim QF Appears'] += 1\n",
    "khachanov['Wim QF Losses'] += 1\n",
    "khachanov['Wim QF Pct'] = khachanov['Wim QF Wins'] / khachanov['Wim QF Appears']\n",
    "\n",
    "df[df['PLAYER'] == 'Khachanov, Karen'] = khachanov"
   ]
  },
  {
   "cell_type": "markdown",
   "metadata": {},
   "source": [
    "### Felix Auger-Aliassime"
   ]
  },
  {
   "cell_type": "code",
   "execution_count": null,
   "metadata": {},
   "outputs": [],
   "source": [
    "df = df.append({'PLAYER': 'Auger-Aliassime, Felix', 'QF Appears': 1, 'QF Wins': 0,\n",
    "                'QF Losses': 1,\n",
    "          'SF Wins': 0, 'SF Losses': 0, 'F Wins': 0, 'F Losses': 0, 'QF Pct': 0,\n",
    "          'SF Pct': 0, 'F Pct': 0, 'Aus QF Appears': 0, 'Aus QF Wins': 0,\n",
    "          'Aus QF Losses': 0, 'Aus SF Wins': 0, 'Aus SF Losses': 0, 'Aus F Wins': 0,\n",
    "          'Aus F Losses': 0, 'Aus QF Pct': 0, 'Aus SF Pct': 0, 'Aus F Pct': 0,\n",
    "          'Fr QF Appears': 0, 'Fr QF Wins': 0, 'Fr QF Losses': 0, 'Fr SF Wins': 0,\n",
    "          'Fr SF Losses': 0, 'Fr F Wins': 0, 'Fr F Losses': 0, 'Fr QF Pct': 0,\n",
    "          'Fr SF Pct': 0, 'Fr F Pct': 0, 'Wim QF Appears': 1, 'Wim QF Wins': 0,\n",
    "          'Wim QF Losses': 1, 'Wim SF Wins': 0, 'Wim SF Losses': 0, 'Wim F Wins': 0,\n",
    "          'Wim F Losses': 0, 'Wim QF Pct': 0, 'Wim SF Pct': 0, 'Wim F Pct': 0,\n",
    "          'US QF Appears': 0, 'US QF Wins': 0, 'US QF Losses': 0, 'US SF Wins': 0,\n",
    "          'US SF Losses': 0, 'US F Wins': 0, 'US F Losses': 0, 'US QF Pct': 0,\n",
    "          'US SF Pct': 0, 'US F Pct': 0}, ignore_index=True)"
   ]
  },
  {
   "cell_type": "code",
   "execution_count": null,
   "metadata": {},
   "outputs": [],
   "source": [
    "augeraliassime = df[df['PLAYER'] == 'Auger-Aliassime, Felix'].copy()\n",
    "augeraliassime['QF Appears'] += 1\n",
    "augeraliassime['QF Wins'] += 1\n",
    "augeraliassime['SF Losses'] += 1\n",
    "augeraliassime['QF Pct'] = augeraliassime['QF Wins'] / augeraliassime['QF Appears']\n",
    "augeraliassime['SF Pct'] = augeraliassime['SF Wins'] / augeraliassime['QF Wins']\n",
    "\n",
    "augeraliassime['US QF Appears'] += 1\n",
    "augeraliassime['US QF Wins'] += 1\n",
    "augeraliassime['US SF Losses'] += 1\n",
    "augeraliassime['US QF Pct'] = augeraliassime['US QF Wins'] / augeraliassime['US QF Appears']\n",
    "augeraliassime['US SF Pct'] = augeraliassime['US SF Wins'] / augeraliassime['US QF Wins']\n",
    "\n",
    "df[df['PLAYER'] == 'Auger-Aliassime, Felix'] = augeraliassime"
   ]
  },
  {
   "cell_type": "markdown",
   "metadata": {},
   "source": [
    "### Roger Federer"
   ]
  },
  {
   "cell_type": "code",
   "execution_count": null,
   "metadata": {},
   "outputs": [],
   "source": [
    "federer = df[df['PLAYER'] == 'Federer, Roger'].copy()\n",
    "federer['QF Appears'] += 1\n",
    "federer['QF Losses'] += 1\n",
    "federer['QF Pct'] = federer['QF Wins'] / federer['QF Appears']\n",
    "\n",
    "federer['Wim QF Appears'] += 1\n",
    "federer['Wim QF Losses'] += 1\n",
    "federer['Wim QF Pct'] = federer['Wim QF Wins'] / federer['Wim QF Appears']\n",
    "\n",
    "df[df['PLAYER'] == 'Federer, Roger'] = federer"
   ]
  },
  {
   "cell_type": "markdown",
   "metadata": {},
   "source": [
    "### Daniil Medvedev"
   ]
  },
  {
   "cell_type": "code",
   "execution_count": null,
   "metadata": {},
   "outputs": [],
   "source": [
    "medvedev = df[df['PLAYER'] == 'Medvedev, Daniil'].copy()\n",
    "medvedev['QF Appears'] += 1\n",
    "medvedev['QF Wins'] += 1\n",
    "medvedev['SF Wins'] += 1\n",
    "medvedev['F Wins'] += 1\n",
    "medvedev['QF Pct'] = medvedev['QF Wins'] / medvedev['QF Appears']\n",
    "medvedev['SF Pct'] = medvedev['SF Wins'] / medvedev['QF Wins']\n",
    "medvedev['F Pct'] = medvedev['F Wins'] / medvedev['SF Wins']\n",
    "\n",
    "medvedev['US QF Appears'] += 1\n",
    "medvedev['US QF Wins'] += 1\n",
    "medvedev['US SF Wins'] += 1\n",
    "medvedev['US F Wins'] += 1\n",
    "medvedev['US QF Pct'] = medvedev['US QF Wins'] / medvedev['US QF Appears']\n",
    "medvedev['US SF Pct'] = medvedev['US SF Wins'] / medvedev['US QF Wins']\n",
    "medvedev['US F Pct'] = medvedev['US F Wins'] / medvedev['US SF Wins']\n",
    "\n",
    "df[df['PLAYER'] == 'Medvedev, Daniil'] = medvedev"
   ]
  },
  {
   "cell_type": "markdown",
   "metadata": {},
   "source": [
    "### Alexander Zverev"
   ]
  },
  {
   "cell_type": "code",
   "execution_count": null,
   "metadata": {},
   "outputs": [],
   "source": [
    "zverev = df[df['PLAYER'] == 'Zverev, Alexander'].copy()\n",
    "zverev['QF Appears'] += 1\n",
    "zverev['QF Wins'] += 1\n",
    "zverev['SF Losses'] += 1\n",
    "zverev['QF Pct'] = zverev['QF Wins'] / zverev['QF Appears']\n",
    "zverev['SF Pct'] = zverev['SF Wins'] / zverev['QF Wins']\n",
    "\n",
    "zverev['US QF Appears'] += 1\n",
    "zverev['US QF Wins'] += 1\n",
    "zverev['US SF Losses'] += 1\n",
    "zverev['US QF Pct'] = zverev['US QF Wins'] / zverev['US QF Appears']\n",
    "zverev['US SF Pct'] = zverev['US SF Wins'] / zverev['US QF Wins']\n",
    "\n",
    "df[df['PLAYER'] == 'Zverev, Alexander'] = zverev"
   ]
  },
  {
   "cell_type": "markdown",
   "metadata": {},
   "source": [
    "### Lloyd Harris"
   ]
  },
  {
   "cell_type": "code",
   "execution_count": null,
   "metadata": {},
   "outputs": [],
   "source": [
    "df = df.append({'PLAYER': 'Harris, Lloyd', 'QF Appears': 1, 'QF Wins': 0,\n",
    "                'QF Losses': 1,\n",
    "          'SF Wins': 0, 'SF Losses': 0, 'F Wins': 0, 'F Losses': 0, 'QF Pct': 0,\n",
    "          'SF Pct': 0, 'F Pct': 0, 'Aus QF Appears': 0, 'Aus QF Wins': 0,\n",
    "          'Aus QF Losses': 0, 'Aus SF Wins': 0, 'Aus SF Losses': 0, 'Aus F Wins': 0,\n",
    "          'Aus F Losses': 0, 'Aus QF Pct': 0, 'Aus SF Pct': 0, 'Aus F Pct': 0,\n",
    "          'Fr QF Appears': 0, 'Fr QF Wins': 0, 'Fr QF Losses': 0, 'Fr SF Wins': 0,\n",
    "          'Fr SF Losses': 0, 'Fr F Wins': 0, 'Fr F Losses': 0, 'Fr QF Pct': 0,\n",
    "          'Fr SF Pct': 0, 'Fr F Pct': 0, 'Wim QF Appears': 0, 'Wim QF Wins': 0,\n",
    "          'Wim QF Losses': 0, 'Wim SF Wins': 0, 'Wim SF Losses': 0, 'Wim F Wins': 0,\n",
    "          'Wim F Losses': 0, 'Wim QF Pct': 0, 'Wim SF Pct': 0, 'Wim F Pct': 0,\n",
    "          'US QF Appears': 1, 'US QF Wins': 0, 'US QF Losses': 1, 'US SF Wins': 0,\n",
    "          'US SF Losses': 0, 'US F Wins': 0, 'US F Losses': 0, 'US QF Pct': 0,\n",
    "          'US SF Pct': 0, 'US F Pct': 0}, ignore_index=True)"
   ]
  },
  {
   "cell_type": "markdown",
   "metadata": {},
   "source": [
    "### Carlos Alcaraz"
   ]
  },
  {
   "cell_type": "code",
   "execution_count": null,
   "metadata": {},
   "outputs": [],
   "source": [
    "df = df.append({'PLAYER': 'Alcaraz, Carlos', 'QF Appears': 1, 'QF Wins': 0,\n",
    "                'QF Losses': 1,\n",
    "          'SF Wins': 0, 'SF Losses': 0, 'F Wins': 0, 'F Losses': 0, 'QF Pct': 0,\n",
    "          'SF Pct': 0, 'F Pct': 0, 'Aus QF Appears': 0, 'Aus QF Wins': 0,\n",
    "          'Aus QF Losses': 0, 'Aus SF Wins': 0, 'Aus SF Losses': 0, 'Aus F Wins': 0,\n",
    "          'Aus F Losses': 0, 'Aus QF Pct': 0, 'Aus SF Pct': 0, 'Aus F Pct': 0,\n",
    "          'Fr QF Appears': 0, 'Fr QF Wins': 0, 'Fr QF Losses': 0, 'Fr SF Wins': 0,\n",
    "          'Fr SF Losses': 0, 'Fr F Wins': 0, 'Fr F Losses': 0, 'Fr QF Pct': 0,\n",
    "          'Fr SF Pct': 0, 'Fr F Pct': 0, 'Wim QF Appears': 0, 'Wim QF Wins': 0,\n",
    "          'Wim QF Losses': 0, 'Wim SF Wins': 0, 'Wim SF Losses': 0, 'Wim F Wins': 0,\n",
    "          'Wim F Losses': 0, 'Wim QF Pct': 0, 'Wim SF Pct': 0, 'Wim F Pct': 0,\n",
    "          'US QF Appears': 1, 'US QF Wins': 0, 'US QF Losses': 1, 'US SF Wins': 0,\n",
    "          'US SF Losses': 0, 'US F Wins': 0, 'US F Losses': 0, 'US QF Pct': 0,\n",
    "          'US SF Pct': 0, 'US F Pct': 0}, ignore_index=True)"
   ]
  },
  {
   "cell_type": "markdown",
   "metadata": {},
   "source": [
    "### Botic van de Zandschulp"
   ]
  },
  {
   "cell_type": "code",
   "execution_count": null,
   "metadata": {},
   "outputs": [],
   "source": [
    "df = df.append({'PLAYER': 'van de Zandschulp, Botic', 'QF Appears': 1, 'QF Wins': 0,\n",
    "                'QF Losses': 1,\n",
    "          'SF Wins': 0, 'SF Losses': 0, 'F Wins': 0, 'F Losses': 0, 'QF Pct': 0,\n",
    "          'SF Pct': 0, 'F Pct': 0, 'Aus QF Appears': 0, 'Aus QF Wins': 0,\n",
    "          'Aus QF Losses': 0, 'Aus SF Wins': 0, 'Aus SF Losses': 0, 'Aus F Wins': 0,\n",
    "          'Aus F Losses': 0, 'Aus QF Pct': 0, 'Aus SF Pct': 0, 'Aus F Pct': 0,\n",
    "          'Fr QF Appears': 0, 'Fr QF Wins': 0, 'Fr QF Losses': 0, 'Fr SF Wins': 0,\n",
    "          'Fr SF Losses': 0, 'Fr F Wins': 0, 'Fr F Losses': 0, 'Fr QF Pct': 0,\n",
    "          'Fr SF Pct': 0, 'Fr F Pct': 0, 'Wim QF Appears': 0, 'Wim QF Wins': 0,\n",
    "          'Wim QF Losses': 0, 'Wim SF Wins': 0, 'Wim SF Losses': 0, 'Wim F Wins': 0,\n",
    "          'Wim F Losses': 0, 'Wim QF Pct': 0, 'Wim SF Pct': 0, 'Wim F Pct': 0,\n",
    "          'US QF Appears': 1, 'US QF Wins': 0, 'US QF Losses': 1, 'US SF Wins': 0,\n",
    "          'US SF Losses': 0, 'US F Wins': 0, 'US F Losses': 0, 'US QF Pct': 0,\n",
    "          'US SF Pct': 0, 'US F Pct': 0}, ignore_index=True)"
   ]
  },
  {
   "cell_type": "code",
   "execution_count": null,
   "metadata": {},
   "outputs": [],
   "source": [
    "df = df.sort_values(['F Wins', 'SF Wins', 'QF Wins', 'QF Appears', 'PLAYER'],\n",
    "              ascending=[False, False, False, False, True])"
   ]
  },
  {
   "cell_type": "code",
   "execution_count": null,
   "metadata": {},
   "outputs": [],
   "source": [
    "df.to_excel('../data/MensSinglesMajorResultsThru2021.xls')"
   ]
  },
  {
   "cell_type": "markdown",
   "metadata": {},
   "source": [
    "## Make Tennis .db"
   ]
  },
  {
   "cell_type": "code",
   "execution_count": null,
   "metadata": {},
   "outputs": [],
   "source": [
    "import sqlite3\n",
    "\n",
    "tennis = pd.read_excel('../data/Tennis Major Results.xlsx',\n",
    "                      sheet_name=2)\n",
    "\n",
    "tennis.head()"
   ]
  },
  {
   "cell_type": "code",
   "execution_count": null,
   "metadata": {},
   "outputs": [],
   "source": [
    "conn2 = sqlite3.connect('../data/tennis.db')\n",
    "\n",
    "conn2.execute(\n",
    "    \"\"\"SELECT *\n",
    "    FROM sqlite_master\"\"\"\n",
    ").fetchall()"
   ]
  },
  {
   "cell_type": "code",
   "execution_count": null,
   "metadata": {},
   "outputs": [],
   "source": [
    "tennis2 = tennis.rename(lambda x: x.replace(' ', '_'), axis=1)\n",
    "\n",
    "tennis2.columns"
   ]
  },
  {
   "cell_type": "code",
   "execution_count": null,
   "metadata": {},
   "outputs": [],
   "source": [
    "tennis3 = tennis2.drop(['QF_Losses', 'SF_Losses', 'F_Losses',\n",
    "                       'QF_Pct', 'SF_Pct', 'F_Pct', 'Aus_QF_Losses',\n",
    "                        'Aus_SF_Losses', 'Aus_F_Losses', 'Aus_QF_Pct',\n",
    "                        'Aus_SF_Pct', 'Aus_F_Pct', 'Fr_QF_Losses',\n",
    "                        'Fr_SF_Losses', 'Fr_F_Losses', 'Fr_QF_Pct',\n",
    "                        'Fr_SF_Pct', 'Fr_F_Pct', 'Wim_QF_Losses',\n",
    "                        'Wim_SF_Losses', 'Wim_F_Losses', 'Wim_QF_Pct',\n",
    "                        'Wim_SF_Pct', 'Wim_F_Pct', 'US_QF_Losses',\n",
    "                        'US_SF_Losses', 'US_F_Losses', 'US_QF_Pct',\n",
    "                        'US_SF_Pct', 'US_F_Pct'\n",
    "                       ], axis=1)"
   ]
  },
  {
   "cell_type": "code",
   "execution_count": null,
   "metadata": {},
   "outputs": [],
   "source": [
    "tennis3.to_sql('tennis_simple', conn2)"
   ]
  },
  {
   "cell_type": "code",
   "execution_count": null,
   "metadata": {},
   "outputs": [],
   "source": [
    "conn.execute(\n",
    "    \"\"\"SELECT *\n",
    "    FROM sqlite_master\"\"\"\n",
    ").fetchall()"
   ]
  },
  {
   "cell_type": "code",
   "execution_count": null,
   "metadata": {},
   "outputs": [],
   "source": [
    "pd.read_sql(\n",
    "    \"\"\"SELECT Player, F_Wins\n",
    "    FROM tennis\"\"\"\n",
    ", conn)"
   ]
  },
  {
   "cell_type": "code",
   "execution_count": null,
   "metadata": {},
   "outputs": [],
   "source": [
    "pd.read_sql(\n",
    "    \"\"\"SELECT *\n",
    "    FROM tennis_simple\"\"\"\n",
    ", conn2)"
   ]
  },
  {
   "cell_type": "code",
   "execution_count": null,
   "metadata": {},
   "outputs": [],
   "source": [
    "# 2021 Wimble:\n",
    "\n",
    "# Djokovic\n",
    "## Berrettini\n",
    "### Shapovalov, Hurkacz\n",
    "#### Fucsovics, Khachanov, Auger-Aliassime, Federer\n",
    "\n",
    "# 2021 US:\n",
    "\n",
    "# Medvedev\n",
    "## Djokovic\n",
    "### Zverev, Auger-Aliassime\n",
    "#### Berrettini, Harris, Alcaraz, van de Zandschulp\n",
    "\n",
    "# 2022 Aus:\n",
    "\n",
    "# Nadal\n",
    "## Medvedev\n",
    "### Berrettini, Tsitsipas\n",
    "#### Monfils, Shapovalov, Sinner, Auger-Aliassime\n",
    "\n",
    "# UPDATE HERE:\n",
    "    # Djokovic 1 F Win, 1 SF Win\n",
    "    # Berrettini 1 SF Win, 1 QF Win, 1 QF Appear\n",
    "    # Shapovalov 1 QF Win, 1 QF Appear\n",
    "    # Hurkacz 1 QF Win\n",
    "    # Fucsovics 1 QF Appear\n",
    "    # Khachanov 1 QF Appear\n",
    "    # Auger-Aliassime 1 QF Win, 2 QF Appears\n",
    "    # Federer 1 QF Appear\n",
    "    # Medvedev 1 F Win, 1 SF Win\n",
    "    # Zverev 1 QF Win\n",
    "    # Harris 1 QF Appear\n",
    "    # Alcaraz 1 QF Appear\n",
    "    # van de Zandschulp 1 QF Appear\n",
    "    # Nadal 1 F Win\n",
    "    # Tsitsipas 1 QF Win\n",
    "    # Monfils 1 QF Appear\n",
    "    # Sinner 1 QF Appear\n",
    "\n",
    "# 2022 Fr:\n",
    "\n",
    "# Nadal\n",
    "## Ruud\n",
    "### Zverev, Cilic\n",
    "#### Djokovic, Alcaraz, Rune, Rublev"
   ]
  },
  {
   "cell_type": "code",
   "execution_count": null,
   "metadata": {},
   "outputs": [],
   "source": [
    "conn2.execute(\n",
    "    \"\"\"UPDATE tennis_simple\n",
    "    SET QF_Appears = 51\n",
    "    WHERE Player = 'Djokovic, Novak'\"\"\"\n",
    ")"
   ]
  },
  {
   "cell_type": "code",
   "execution_count": null,
   "metadata": {},
   "outputs": [],
   "source": [
    "conn2.execute(\n",
    "    \"\"\"\n",
    "    SELECT *\n",
    "    FROM tennis_simple\n",
    "    WHERE Player = 'Djokovic, Novak'\n",
    "    \"\"\"\n",
    ").fetchall()"
   ]
  },
  {
   "cell_type": "code",
   "execution_count": null,
   "metadata": {},
   "outputs": [],
   "source": [
    "conn2.execute(\n",
    "    \"\"\"\n",
    "    UPDATE tennis_simple\n",
    "    SET QF_Appears = 51,\n",
    "        QF_Wins = 42,\n",
    "        SF_Wins = 31,\n",
    "        F_Wins = 20,\n",
    "        Wim_QF_Appears = 12,\n",
    "        Wim_QF_Wins = 10,\n",
    "        Wim_SF_Wins = 7,\n",
    "        Wim_F_Wins = 6,\n",
    "        US_QF_Appears = 12,\n",
    "        US_QF_Wins = 12,\n",
    "        US_SF_Wins = 9,\n",
    "        US_F_Wins = 3\n",
    "    WHERE Player = 'Djokovic, Novak'\n",
    "    \"\"\"\n",
    ")"
   ]
  },
  {
   "cell_type": "code",
   "execution_count": null,
   "metadata": {},
   "outputs": [],
   "source": [
    "conn2.execute(\n",
    "    \"\"\"\n",
    "    SELECT *\n",
    "    FROM tennis_simple\n",
    "    WHERE Player = 'Djokovic, Novak'\n",
    "    \"\"\"\n",
    ").fetchall()"
   ]
  },
  {
   "cell_type": "code",
   "execution_count": null,
   "metadata": {},
   "outputs": [],
   "source": [
    "pd.read_sql(\n",
    "    \"\"\"\n",
    "    SELECT *\n",
    "    FROM tennis_simple\n",
    "    WHERE Player = 'Djokovic, Novak'\n",
    "    \"\"\"\n",
    ", conn2)"
   ]
  },
  {
   "cell_type": "code",
   "execution_count": null,
   "metadata": {},
   "outputs": [],
   "source": [
    "pd.read_sql(\n",
    "    \"\"\"\n",
    "    SELECT *\n",
    "    FROM tennis_simple\n",
    "    WHERE Player = 'Berrettini, Matteo'\n",
    "    \"\"\"\n",
    ", conn2)"
   ]
  },
  {
   "cell_type": "code",
   "execution_count": null,
   "metadata": {},
   "outputs": [],
   "source": [
    "conn2.execute(\n",
    "    \"\"\"\n",
    "    UPDATE tennis_simple\n",
    "    SET QF_Appears = 5,\n",
    "        QF_Wins = 3,\n",
    "        SF_Wins = 1,\n",
    "        Aus_QF_Appears = 1,\n",
    "        Aus_QF_Wins = 1,\n",
    "        Wim_QF_Appears = 1,\n",
    "        Wim_QF_Wins = 1,\n",
    "        Wim_SF_Wins = 1,\n",
    "        US_QF_Appears = 2\n",
    "        \n",
    "    WHERE Player = 'Berrettini, Matteo'\n",
    "    \"\"\"\n",
    ")"
   ]
  },
  {
   "cell_type": "code",
   "execution_count": null,
   "metadata": {},
   "outputs": [],
   "source": [
    "pd.read_sql(\n",
    "    \"\"\"\n",
    "    SELECT *\n",
    "    FROM tennis_simple\n",
    "    WHERE Player = 'Berrettini, Matteo'\n",
    "    \"\"\"\n",
    ", conn2)"
   ]
  },
  {
   "cell_type": "code",
   "execution_count": null,
   "metadata": {},
   "outputs": [],
   "source": [
    "conn3 = sqlite3.connect('../Sports-Data/tennis.db')\n",
    "\n",
    "pd.read_sql(\n",
    "    \"\"\"\n",
    "    SELECT *\n",
    "    FROM tennis_simple\n",
    "    WHERE Player = 'Berrettini, Matteo'\n",
    "    \"\"\"\n",
    ", conn3)"
   ]
  },
  {
   "cell_type": "code",
   "execution_count": null,
   "metadata": {},
   "outputs": [],
   "source": [
    "conn.close()"
   ]
  },
  {
   "cell_type": "code",
   "execution_count": null,
   "metadata": {},
   "outputs": [],
   "source": [
    "conn2.close()"
   ]
  },
  {
   "cell_type": "code",
   "execution_count": null,
   "metadata": {},
   "outputs": [],
   "source": [
    "conn3.close()"
   ]
  },
  {
   "cell_type": "markdown",
   "metadata": {},
   "source": [
    "## Updating a Row"
   ]
  },
  {
   "cell_type": "code",
   "execution_count": null,
   "metadata": {},
   "outputs": [],
   "source": [
    "\"\"\"\n",
    "    UPDATE tennis_simple\n",
    "    SET QF_Appears = 9,\n",
    "        QF_Wins = 9,\n",
    "        SF_Wins = 9,\n",
    "        Aus_QF_Appears = 9,\n",
    "        Aus_QF_Wins = 9,\n",
    "        Wim_QF_Appears = 9,\n",
    "        Wim_QF_Wins = 9,\n",
    "        Wim_SF_Wins = 9,\n",
    "        US_QF_Appears = 9\n",
    "        \n",
    "    WHERE Player = 'YYY, XXX'\n",
    "\"\"\""
   ]
  },
  {
   "cell_type": "markdown",
   "metadata": {},
   "source": [
    "## Adding a Row"
   ]
  },
  {
   "cell_type": "code",
   "execution_count": null,
   "metadata": {},
   "outputs": [],
   "source": [
    "\"\"\"\n",
    "    INSERT INTO tennis_simple\n",
    "    VALUES ('YYY, XXX', 0, 0, 0, 0, 0, 0, 0, 0, 0, 0,\n",
    "    0, 0, 0, 0, 0, 0, 0, 0, 0, 0)\n",
    "\"\"\""
   ]
  },
  {
   "cell_type": "markdown",
   "metadata": {},
   "source": [
    "## 09-06-22"
   ]
  },
  {
   "cell_type": "code",
   "execution_count": 5,
   "metadata": {},
   "outputs": [],
   "source": [
    "conn = sqlite3.connect('../data/tennis.db')"
   ]
  },
  {
   "cell_type": "code",
   "execution_count": 9,
   "metadata": {},
   "outputs": [
    {
     "data": {
      "text/html": [
       "<div>\n",
       "<style scoped>\n",
       "    .dataframe tbody tr th:only-of-type {\n",
       "        vertical-align: middle;\n",
       "    }\n",
       "\n",
       "    .dataframe tbody tr th {\n",
       "        vertical-align: top;\n",
       "    }\n",
       "\n",
       "    .dataframe thead th {\n",
       "        text-align: right;\n",
       "    }\n",
       "</style>\n",
       "<table border=\"1\" class=\"dataframe\">\n",
       "  <thead>\n",
       "    <tr style=\"text-align: right;\">\n",
       "      <th></th>\n",
       "      <th>type</th>\n",
       "      <th>name</th>\n",
       "      <th>tbl_name</th>\n",
       "      <th>rootpage</th>\n",
       "      <th>sql</th>\n",
       "    </tr>\n",
       "  </thead>\n",
       "  <tbody>\n",
       "    <tr>\n",
       "      <th>0</th>\n",
       "      <td>table</td>\n",
       "      <td>mens_tennis</td>\n",
       "      <td>mens_tennis</td>\n",
       "      <td>9</td>\n",
       "      <td>CREATE TABLE mens_tennis (\"index\" INTEGER PRIM...</td>\n",
       "    </tr>\n",
       "  </tbody>\n",
       "</table>\n",
       "</div>"
      ],
      "text/plain": [
       "    type         name     tbl_name  rootpage  \\\n",
       "0  table  mens_tennis  mens_tennis         9   \n",
       "\n",
       "                                                 sql  \n",
       "0  CREATE TABLE mens_tennis (\"index\" INTEGER PRIM...  "
      ]
     },
     "execution_count": 9,
     "metadata": {},
     "output_type": "execute_result"
    }
   ],
   "source": [
    "pd.read_sql(\n",
    "    \"\"\"SELECT *\n",
    "    FROM sqlite_master\"\"\", conn\n",
    ")"
   ]
  },
  {
   "cell_type": "code",
   "execution_count": 11,
   "metadata": {},
   "outputs": [
    {
     "data": {
      "text/html": [
       "<div>\n",
       "<style scoped>\n",
       "    .dataframe tbody tr th:only-of-type {\n",
       "        vertical-align: middle;\n",
       "    }\n",
       "\n",
       "    .dataframe tbody tr th {\n",
       "        vertical-align: top;\n",
       "    }\n",
       "\n",
       "    .dataframe thead th {\n",
       "        text-align: right;\n",
       "    }\n",
       "</style>\n",
       "<table border=\"1\" class=\"dataframe\">\n",
       "  <thead>\n",
       "    <tr style=\"text-align: right;\">\n",
       "      <th></th>\n",
       "      <th>index</th>\n",
       "      <th>Player</th>\n",
       "      <th>QF_Appears</th>\n",
       "      <th>QF_Wins</th>\n",
       "      <th>SF_Wins</th>\n",
       "      <th>F_Wins</th>\n",
       "      <th>Aus_QF_Appears</th>\n",
       "      <th>Aus_QF_Wins</th>\n",
       "      <th>Aus_SF_Wins</th>\n",
       "      <th>Aus_F_Wins</th>\n",
       "      <th>...</th>\n",
       "      <th>Fr_SF_Wins</th>\n",
       "      <th>Fr_F_Wins</th>\n",
       "      <th>Wim_QF_Appears</th>\n",
       "      <th>Wim_QF_Wins</th>\n",
       "      <th>Wim_SF_Wins</th>\n",
       "      <th>Wim_F_Wins</th>\n",
       "      <th>US_QF_Appears</th>\n",
       "      <th>US_QF_Wins</th>\n",
       "      <th>US_SF_Wins</th>\n",
       "      <th>US_F_Wins</th>\n",
       "    </tr>\n",
       "  </thead>\n",
       "  <tbody>\n",
       "    <tr>\n",
       "      <th>0</th>\n",
       "      <td>2</td>\n",
       "      <td>Djokovic, Novak</td>\n",
       "      <td>53</td>\n",
       "      <td>43</td>\n",
       "      <td>32</td>\n",
       "      <td>21</td>\n",
       "      <td>12</td>\n",
       "      <td>9</td>\n",
       "      <td>9</td>\n",
       "      <td>9</td>\n",
       "      <td>...</td>\n",
       "      <td>6</td>\n",
       "      <td>2</td>\n",
       "      <td>13</td>\n",
       "      <td>11</td>\n",
       "      <td>8</td>\n",
       "      <td>7</td>\n",
       "      <td>12</td>\n",
       "      <td>12</td>\n",
       "      <td>9</td>\n",
       "      <td>3</td>\n",
       "    </tr>\n",
       "  </tbody>\n",
       "</table>\n",
       "<p>1 rows × 22 columns</p>\n",
       "</div>"
      ],
      "text/plain": [
       "   index           Player  QF_Appears  QF_Wins  SF_Wins  F_Wins  \\\n",
       "0      2  Djokovic, Novak          53       43       32      21   \n",
       "\n",
       "   Aus_QF_Appears  Aus_QF_Wins  Aus_SF_Wins  Aus_F_Wins  ...  Fr_SF_Wins  \\\n",
       "0              12            9            9           9  ...           6   \n",
       "\n",
       "   Fr_F_Wins  Wim_QF_Appears  Wim_QF_Wins  Wim_SF_Wins  Wim_F_Wins  \\\n",
       "0          2              13           11            8           7   \n",
       "\n",
       "   US_QF_Appears  US_QF_Wins  US_SF_Wins  US_F_Wins  \n",
       "0             12          12           9          3  \n",
       "\n",
       "[1 rows x 22 columns]"
      ]
     },
     "execution_count": 11,
     "metadata": {},
     "output_type": "execute_result"
    }
   ],
   "source": [
    "pd.read_sql(\n",
    "    \"\"\"\n",
    "    SELECT *\n",
    "    FROM mens_tennis\n",
    "    WHERE Player = 'Djokovic, Novak'\n",
    "    \"\"\",\n",
    "    conn\n",
    ")"
   ]
  },
  {
   "cell_type": "markdown",
   "metadata": {},
   "source": [
    "## 2022 U.S. Open"
   ]
  },
  {
   "cell_type": "code",
   "execution_count": 24,
   "metadata": {},
   "outputs": [],
   "source": [
    "import pandas as pd\n",
    "import sqlite3\n",
    "con = sqlite3.connect(\"../data/tennis.db\")"
   ]
  },
  {
   "cell_type": "code",
   "execution_count": 25,
   "metadata": {},
   "outputs": [],
   "source": [
    "# QFs\n",
    "# Khachanov d. Kyrgios\n",
    "# Ruud d. Berrettini\n",
    "# Alcaraz d. Sinner\n",
    "# Tiafoe d. Rublev\n",
    "\n",
    "# SFs\n",
    "# Ruud d. Khachanov\n",
    "# Alcaraz d. Tiafoe\n",
    "\n",
    "# Fs\n",
    "# Alcaraz d. Ruud"
   ]
  },
  {
   "cell_type": "code",
   "execution_count": 26,
   "metadata": {},
   "outputs": [
    {
     "data": {
      "text/html": [
       "<div>\n",
       "<style scoped>\n",
       "    .dataframe tbody tr th:only-of-type {\n",
       "        vertical-align: middle;\n",
       "    }\n",
       "\n",
       "    .dataframe tbody tr th {\n",
       "        vertical-align: top;\n",
       "    }\n",
       "\n",
       "    .dataframe thead th {\n",
       "        text-align: right;\n",
       "    }\n",
       "</style>\n",
       "<table border=\"1\" class=\"dataframe\">\n",
       "  <thead>\n",
       "    <tr style=\"text-align: right;\">\n",
       "      <th></th>\n",
       "      <th>index</th>\n",
       "      <th>Player</th>\n",
       "      <th>QF_Appears</th>\n",
       "      <th>QF_Wins</th>\n",
       "      <th>SF_Wins</th>\n",
       "      <th>F_Wins</th>\n",
       "      <th>Aus_QF_Appears</th>\n",
       "      <th>Aus_QF_Wins</th>\n",
       "      <th>Aus_SF_Wins</th>\n",
       "      <th>Aus_F_Wins</th>\n",
       "      <th>...</th>\n",
       "      <th>Fr_SF_Wins</th>\n",
       "      <th>Fr_F_Wins</th>\n",
       "      <th>Wim_QF_Appears</th>\n",
       "      <th>Wim_QF_Wins</th>\n",
       "      <th>Wim_SF_Wins</th>\n",
       "      <th>Wim_F_Wins</th>\n",
       "      <th>US_QF_Appears</th>\n",
       "      <th>US_QF_Wins</th>\n",
       "      <th>US_SF_Wins</th>\n",
       "      <th>US_F_Wins</th>\n",
       "    </tr>\n",
       "  </thead>\n",
       "  <tbody>\n",
       "    <tr>\n",
       "      <th>0</th>\n",
       "      <td>305</td>\n",
       "      <td>Khachanov, Karen</td>\n",
       "      <td>2</td>\n",
       "      <td>0</td>\n",
       "      <td>0</td>\n",
       "      <td>0</td>\n",
       "      <td>0</td>\n",
       "      <td>0</td>\n",
       "      <td>0</td>\n",
       "      <td>0</td>\n",
       "      <td>...</td>\n",
       "      <td>0</td>\n",
       "      <td>0</td>\n",
       "      <td>1</td>\n",
       "      <td>0</td>\n",
       "      <td>0</td>\n",
       "      <td>0</td>\n",
       "      <td>0</td>\n",
       "      <td>0</td>\n",
       "      <td>0</td>\n",
       "      <td>0</td>\n",
       "    </tr>\n",
       "  </tbody>\n",
       "</table>\n",
       "<p>1 rows × 22 columns</p>\n",
       "</div>"
      ],
      "text/plain": [
       "   index            Player  QF_Appears  QF_Wins  SF_Wins  F_Wins  \\\n",
       "0    305  Khachanov, Karen           2        0        0       0   \n",
       "\n",
       "   Aus_QF_Appears  Aus_QF_Wins  Aus_SF_Wins  Aus_F_Wins  ...  Fr_SF_Wins  \\\n",
       "0               0            0            0           0  ...           0   \n",
       "\n",
       "   Fr_F_Wins  Wim_QF_Appears  Wim_QF_Wins  Wim_SF_Wins  Wim_F_Wins  \\\n",
       "0          0               1            0            0           0   \n",
       "\n",
       "   US_QF_Appears  US_QF_Wins  US_SF_Wins  US_F_Wins  \n",
       "0              0           0           0          0  \n",
       "\n",
       "[1 rows x 22 columns]"
      ]
     },
     "execution_count": 26,
     "metadata": {},
     "output_type": "execute_result"
    }
   ],
   "source": [
    "pd.read_sql(\n",
    "    \"\"\"\n",
    "    SELECT *\n",
    "    FROM mens_tennis\n",
    "    WHERE Player = 'Khachanov, Karen'\n",
    "    \"\"\"\n",
    ", con)"
   ]
  },
  {
   "cell_type": "code",
   "execution_count": 27,
   "metadata": {},
   "outputs": [
    {
     "data": {
      "text/plain": [
       "<sqlite3.Cursor at 0x7fcfb808f960>"
      ]
     },
     "execution_count": 27,
     "metadata": {},
     "output_type": "execute_result"
    }
   ],
   "source": [
    "con.execute(\n",
    "    \"\"\"\n",
    "    UPDATE mens_tennis\n",
    "    SET QF_Appears = 3,\n",
    "    QF_Wins = 1,\n",
    "    US_QF_Appears = 1,\n",
    "    US_QF_Wins = 1\n",
    "    \n",
    "    WHERE Player = 'Khachanov, Karen'\n",
    "    \"\"\"\n",
    ")"
   ]
  },
  {
   "cell_type": "code",
   "execution_count": 28,
   "metadata": {},
   "outputs": [
    {
     "data": {
      "text/html": [
       "<div>\n",
       "<style scoped>\n",
       "    .dataframe tbody tr th:only-of-type {\n",
       "        vertical-align: middle;\n",
       "    }\n",
       "\n",
       "    .dataframe tbody tr th {\n",
       "        vertical-align: top;\n",
       "    }\n",
       "\n",
       "    .dataframe thead th {\n",
       "        text-align: right;\n",
       "    }\n",
       "</style>\n",
       "<table border=\"1\" class=\"dataframe\">\n",
       "  <thead>\n",
       "    <tr style=\"text-align: right;\">\n",
       "      <th></th>\n",
       "      <th>index</th>\n",
       "      <th>Player</th>\n",
       "      <th>QF_Appears</th>\n",
       "      <th>QF_Wins</th>\n",
       "      <th>SF_Wins</th>\n",
       "      <th>F_Wins</th>\n",
       "      <th>Aus_QF_Appears</th>\n",
       "      <th>Aus_QF_Wins</th>\n",
       "      <th>Aus_SF_Wins</th>\n",
       "      <th>Aus_F_Wins</th>\n",
       "      <th>...</th>\n",
       "      <th>Fr_SF_Wins</th>\n",
       "      <th>Fr_F_Wins</th>\n",
       "      <th>Wim_QF_Appears</th>\n",
       "      <th>Wim_QF_Wins</th>\n",
       "      <th>Wim_SF_Wins</th>\n",
       "      <th>Wim_F_Wins</th>\n",
       "      <th>US_QF_Appears</th>\n",
       "      <th>US_QF_Wins</th>\n",
       "      <th>US_SF_Wins</th>\n",
       "      <th>US_F_Wins</th>\n",
       "    </tr>\n",
       "  </thead>\n",
       "  <tbody>\n",
       "    <tr>\n",
       "      <th>0</th>\n",
       "      <td>236</td>\n",
       "      <td>Kyrgios, Nick</td>\n",
       "      <td>3</td>\n",
       "      <td>1</td>\n",
       "      <td>1</td>\n",
       "      <td>0</td>\n",
       "      <td>1</td>\n",
       "      <td>0</td>\n",
       "      <td>0</td>\n",
       "      <td>0</td>\n",
       "      <td>...</td>\n",
       "      <td>0</td>\n",
       "      <td>0</td>\n",
       "      <td>2</td>\n",
       "      <td>1</td>\n",
       "      <td>1</td>\n",
       "      <td>0</td>\n",
       "      <td>0</td>\n",
       "      <td>0</td>\n",
       "      <td>0</td>\n",
       "      <td>0</td>\n",
       "    </tr>\n",
       "  </tbody>\n",
       "</table>\n",
       "<p>1 rows × 22 columns</p>\n",
       "</div>"
      ],
      "text/plain": [
       "   index         Player  QF_Appears  QF_Wins  SF_Wins  F_Wins  Aus_QF_Appears  \\\n",
       "0    236  Kyrgios, Nick           3        1        1       0               1   \n",
       "\n",
       "   Aus_QF_Wins  Aus_SF_Wins  Aus_F_Wins  ...  Fr_SF_Wins  Fr_F_Wins  \\\n",
       "0            0            0           0  ...           0          0   \n",
       "\n",
       "   Wim_QF_Appears  Wim_QF_Wins  Wim_SF_Wins  Wim_F_Wins  US_QF_Appears  \\\n",
       "0               2            1            1           0              0   \n",
       "\n",
       "   US_QF_Wins  US_SF_Wins  US_F_Wins  \n",
       "0           0           0          0  \n",
       "\n",
       "[1 rows x 22 columns]"
      ]
     },
     "execution_count": 28,
     "metadata": {},
     "output_type": "execute_result"
    }
   ],
   "source": [
    "pd.read_sql(\n",
    "    \"\"\"\n",
    "    SELECT *\n",
    "    FROM mens_tennis\n",
    "    WHERE Player = 'Kyrgios, Nick'\n",
    "    \"\"\"\n",
    ", con)"
   ]
  },
  {
   "cell_type": "code",
   "execution_count": 29,
   "metadata": {},
   "outputs": [
    {
     "data": {
      "text/plain": [
       "<sqlite3.Cursor at 0x7fcfb808f1f0>"
      ]
     },
     "execution_count": 29,
     "metadata": {},
     "output_type": "execute_result"
    }
   ],
   "source": [
    "con.execute(\n",
    "    \"\"\"\n",
    "    UPDATE mens_tennis\n",
    "    SET QF_Appears = 4,\n",
    "    US_QF_Appears = 1\n",
    "    \n",
    "    WHERE Player = 'Kyrgios, Nick'\n",
    "    \"\"\"\n",
    ")"
   ]
  },
  {
   "cell_type": "code",
   "execution_count": 30,
   "metadata": {},
   "outputs": [
    {
     "data": {
      "text/html": [
       "<div>\n",
       "<style scoped>\n",
       "    .dataframe tbody tr th:only-of-type {\n",
       "        vertical-align: middle;\n",
       "    }\n",
       "\n",
       "    .dataframe tbody tr th {\n",
       "        vertical-align: top;\n",
       "    }\n",
       "\n",
       "    .dataframe thead th {\n",
       "        text-align: right;\n",
       "    }\n",
       "</style>\n",
       "<table border=\"1\" class=\"dataframe\">\n",
       "  <thead>\n",
       "    <tr style=\"text-align: right;\">\n",
       "      <th></th>\n",
       "      <th>index</th>\n",
       "      <th>Player</th>\n",
       "      <th>QF_Appears</th>\n",
       "      <th>QF_Wins</th>\n",
       "      <th>SF_Wins</th>\n",
       "      <th>F_Wins</th>\n",
       "      <th>Aus_QF_Appears</th>\n",
       "      <th>Aus_QF_Wins</th>\n",
       "      <th>Aus_SF_Wins</th>\n",
       "      <th>Aus_F_Wins</th>\n",
       "      <th>...</th>\n",
       "      <th>Fr_SF_Wins</th>\n",
       "      <th>Fr_F_Wins</th>\n",
       "      <th>Wim_QF_Appears</th>\n",
       "      <th>Wim_QF_Wins</th>\n",
       "      <th>Wim_SF_Wins</th>\n",
       "      <th>Wim_F_Wins</th>\n",
       "      <th>US_QF_Appears</th>\n",
       "      <th>US_QF_Wins</th>\n",
       "      <th>US_SF_Wins</th>\n",
       "      <th>US_F_Wins</th>\n",
       "    </tr>\n",
       "  </thead>\n",
       "  <tbody>\n",
       "    <tr>\n",
       "      <th>0</th>\n",
       "      <td>368</td>\n",
       "      <td>Ruud, Casper</td>\n",
       "      <td>1</td>\n",
       "      <td>1</td>\n",
       "      <td>1</td>\n",
       "      <td>0</td>\n",
       "      <td>0</td>\n",
       "      <td>0</td>\n",
       "      <td>0</td>\n",
       "      <td>0</td>\n",
       "      <td>...</td>\n",
       "      <td>1</td>\n",
       "      <td>0</td>\n",
       "      <td>0</td>\n",
       "      <td>0</td>\n",
       "      <td>0</td>\n",
       "      <td>0</td>\n",
       "      <td>0</td>\n",
       "      <td>0</td>\n",
       "      <td>0</td>\n",
       "      <td>0</td>\n",
       "    </tr>\n",
       "  </tbody>\n",
       "</table>\n",
       "<p>1 rows × 22 columns</p>\n",
       "</div>"
      ],
      "text/plain": [
       "   index        Player  QF_Appears  QF_Wins  SF_Wins  F_Wins  Aus_QF_Appears  \\\n",
       "0    368  Ruud, Casper           1        1        1       0               0   \n",
       "\n",
       "   Aus_QF_Wins  Aus_SF_Wins  Aus_F_Wins  ...  Fr_SF_Wins  Fr_F_Wins  \\\n",
       "0            0            0           0  ...           1          0   \n",
       "\n",
       "   Wim_QF_Appears  Wim_QF_Wins  Wim_SF_Wins  Wim_F_Wins  US_QF_Appears  \\\n",
       "0               0            0            0           0              0   \n",
       "\n",
       "   US_QF_Wins  US_SF_Wins  US_F_Wins  \n",
       "0           0           0          0  \n",
       "\n",
       "[1 rows x 22 columns]"
      ]
     },
     "execution_count": 30,
     "metadata": {},
     "output_type": "execute_result"
    }
   ],
   "source": [
    "pd.read_sql(\n",
    "    \"\"\"\n",
    "    SELECT *\n",
    "    FROM mens_tennis\n",
    "    WHERE Player = 'Ruud, Casper'\n",
    "    \"\"\"\n",
    ", con)"
   ]
  },
  {
   "cell_type": "code",
   "execution_count": 31,
   "metadata": {},
   "outputs": [
    {
     "data": {
      "text/plain": [
       "<sqlite3.Cursor at 0x7fcfb808fab0>"
      ]
     },
     "execution_count": 31,
     "metadata": {},
     "output_type": "execute_result"
    }
   ],
   "source": [
    "con.execute(\n",
    "    \"\"\"\n",
    "    UPDATE mens_tennis\n",
    "    SET QF_Appears = 2,\n",
    "    QF_Wins = 2,\n",
    "    SF_Wins = 2,\n",
    "    US_QF_Appears = 1,\n",
    "    US_QF_Wins = 1,\n",
    "    US_SF_Wins = 1\n",
    "    \n",
    "    WHERE Player = 'Ruud, Casper'\n",
    "    \"\"\"\n",
    ")"
   ]
  },
  {
   "cell_type": "code",
   "execution_count": 32,
   "metadata": {},
   "outputs": [
    {
     "data": {
      "text/html": [
       "<div>\n",
       "<style scoped>\n",
       "    .dataframe tbody tr th:only-of-type {\n",
       "        vertical-align: middle;\n",
       "    }\n",
       "\n",
       "    .dataframe tbody tr th {\n",
       "        vertical-align: top;\n",
       "    }\n",
       "\n",
       "    .dataframe thead th {\n",
       "        text-align: right;\n",
       "    }\n",
       "</style>\n",
       "<table border=\"1\" class=\"dataframe\">\n",
       "  <thead>\n",
       "    <tr style=\"text-align: right;\">\n",
       "      <th></th>\n",
       "      <th>index</th>\n",
       "      <th>Player</th>\n",
       "      <th>QF_Appears</th>\n",
       "      <th>QF_Wins</th>\n",
       "      <th>SF_Wins</th>\n",
       "      <th>F_Wins</th>\n",
       "      <th>Aus_QF_Appears</th>\n",
       "      <th>Aus_QF_Wins</th>\n",
       "      <th>Aus_SF_Wins</th>\n",
       "      <th>Aus_F_Wins</th>\n",
       "      <th>...</th>\n",
       "      <th>Fr_SF_Wins</th>\n",
       "      <th>Fr_F_Wins</th>\n",
       "      <th>Wim_QF_Appears</th>\n",
       "      <th>Wim_QF_Wins</th>\n",
       "      <th>Wim_SF_Wins</th>\n",
       "      <th>Wim_F_Wins</th>\n",
       "      <th>US_QF_Appears</th>\n",
       "      <th>US_QF_Wins</th>\n",
       "      <th>US_SF_Wins</th>\n",
       "      <th>US_F_Wins</th>\n",
       "    </tr>\n",
       "  </thead>\n",
       "  <tbody>\n",
       "    <tr>\n",
       "      <th>0</th>\n",
       "      <td>160</td>\n",
       "      <td>Berrettini, Matteo</td>\n",
       "      <td>5</td>\n",
       "      <td>3</td>\n",
       "      <td>1</td>\n",
       "      <td>0</td>\n",
       "      <td>1</td>\n",
       "      <td>1</td>\n",
       "      <td>0</td>\n",
       "      <td>0</td>\n",
       "      <td>...</td>\n",
       "      <td>0</td>\n",
       "      <td>0</td>\n",
       "      <td>1</td>\n",
       "      <td>1</td>\n",
       "      <td>1</td>\n",
       "      <td>0</td>\n",
       "      <td>2</td>\n",
       "      <td>1</td>\n",
       "      <td>0</td>\n",
       "      <td>0</td>\n",
       "    </tr>\n",
       "  </tbody>\n",
       "</table>\n",
       "<p>1 rows × 22 columns</p>\n",
       "</div>"
      ],
      "text/plain": [
       "   index              Player  QF_Appears  QF_Wins  SF_Wins  F_Wins  \\\n",
       "0    160  Berrettini, Matteo           5        3        1       0   \n",
       "\n",
       "   Aus_QF_Appears  Aus_QF_Wins  Aus_SF_Wins  Aus_F_Wins  ...  Fr_SF_Wins  \\\n",
       "0               1            1            0           0  ...           0   \n",
       "\n",
       "   Fr_F_Wins  Wim_QF_Appears  Wim_QF_Wins  Wim_SF_Wins  Wim_F_Wins  \\\n",
       "0          0               1            1            1           0   \n",
       "\n",
       "   US_QF_Appears  US_QF_Wins  US_SF_Wins  US_F_Wins  \n",
       "0              2           1           0          0  \n",
       "\n",
       "[1 rows x 22 columns]"
      ]
     },
     "execution_count": 32,
     "metadata": {},
     "output_type": "execute_result"
    }
   ],
   "source": [
    "pd.read_sql(\n",
    "    \"\"\"\n",
    "    SELECT *\n",
    "    FROM mens_tennis\n",
    "    WHERE Player = 'Berrettini, Matteo'\n",
    "    \"\"\"\n",
    ", con)"
   ]
  },
  {
   "cell_type": "code",
   "execution_count": 33,
   "metadata": {},
   "outputs": [
    {
     "data": {
      "text/plain": [
       "<sqlite3.Cursor at 0x7fcfb808f650>"
      ]
     },
     "execution_count": 33,
     "metadata": {},
     "output_type": "execute_result"
    }
   ],
   "source": [
    "con.execute(\n",
    "    \"\"\"\n",
    "    UPDATE mens_tennis\n",
    "    SET QF_Appears = 6,\n",
    "    US_QF_Appears = 3\n",
    "    \n",
    "    WHERE Player = 'Berrettini, Matteo'\n",
    "    \"\"\"\n",
    ")"
   ]
  },
  {
   "cell_type": "code",
   "execution_count": 34,
   "metadata": {},
   "outputs": [
    {
     "data": {
      "text/html": [
       "<div>\n",
       "<style scoped>\n",
       "    .dataframe tbody tr th:only-of-type {\n",
       "        vertical-align: middle;\n",
       "    }\n",
       "\n",
       "    .dataframe tbody tr th {\n",
       "        vertical-align: top;\n",
       "    }\n",
       "\n",
       "    .dataframe thead th {\n",
       "        text-align: right;\n",
       "    }\n",
       "</style>\n",
       "<table border=\"1\" class=\"dataframe\">\n",
       "  <thead>\n",
       "    <tr style=\"text-align: right;\">\n",
       "      <th></th>\n",
       "      <th>index</th>\n",
       "      <th>Player</th>\n",
       "      <th>QF_Appears</th>\n",
       "      <th>QF_Wins</th>\n",
       "      <th>SF_Wins</th>\n",
       "      <th>F_Wins</th>\n",
       "      <th>Aus_QF_Appears</th>\n",
       "      <th>Aus_QF_Wins</th>\n",
       "      <th>Aus_SF_Wins</th>\n",
       "      <th>Aus_F_Wins</th>\n",
       "      <th>...</th>\n",
       "      <th>Fr_SF_Wins</th>\n",
       "      <th>Fr_F_Wins</th>\n",
       "      <th>Wim_QF_Appears</th>\n",
       "      <th>Wim_QF_Wins</th>\n",
       "      <th>Wim_SF_Wins</th>\n",
       "      <th>Wim_F_Wins</th>\n",
       "      <th>US_QF_Appears</th>\n",
       "      <th>US_QF_Wins</th>\n",
       "      <th>US_SF_Wins</th>\n",
       "      <th>US_F_Wins</th>\n",
       "    </tr>\n",
       "  </thead>\n",
       "  <tbody>\n",
       "    <tr>\n",
       "      <th>0</th>\n",
       "      <td>365</td>\n",
       "      <td>Alcaraz, Carlos</td>\n",
       "      <td>2</td>\n",
       "      <td>0</td>\n",
       "      <td>0</td>\n",
       "      <td>0</td>\n",
       "      <td>0</td>\n",
       "      <td>0</td>\n",
       "      <td>0</td>\n",
       "      <td>0</td>\n",
       "      <td>...</td>\n",
       "      <td>0</td>\n",
       "      <td>0</td>\n",
       "      <td>0</td>\n",
       "      <td>0</td>\n",
       "      <td>0</td>\n",
       "      <td>0</td>\n",
       "      <td>1</td>\n",
       "      <td>0</td>\n",
       "      <td>0</td>\n",
       "      <td>0</td>\n",
       "    </tr>\n",
       "  </tbody>\n",
       "</table>\n",
       "<p>1 rows × 22 columns</p>\n",
       "</div>"
      ],
      "text/plain": [
       "   index           Player  QF_Appears  QF_Wins  SF_Wins  F_Wins  \\\n",
       "0    365  Alcaraz, Carlos           2        0        0       0   \n",
       "\n",
       "   Aus_QF_Appears  Aus_QF_Wins  Aus_SF_Wins  Aus_F_Wins  ...  Fr_SF_Wins  \\\n",
       "0               0            0            0           0  ...           0   \n",
       "\n",
       "   Fr_F_Wins  Wim_QF_Appears  Wim_QF_Wins  Wim_SF_Wins  Wim_F_Wins  \\\n",
       "0          0               0            0            0           0   \n",
       "\n",
       "   US_QF_Appears  US_QF_Wins  US_SF_Wins  US_F_Wins  \n",
       "0              1           0           0          0  \n",
       "\n",
       "[1 rows x 22 columns]"
      ]
     },
     "execution_count": 34,
     "metadata": {},
     "output_type": "execute_result"
    }
   ],
   "source": [
    "pd.read_sql(\n",
    "    \"\"\"\n",
    "    SELECT *\n",
    "    FROM mens_tennis\n",
    "    WHERE Player = 'Alcaraz, Carlos'\n",
    "    \"\"\"\n",
    ", con)"
   ]
  },
  {
   "cell_type": "code",
   "execution_count": 35,
   "metadata": {},
   "outputs": [
    {
     "data": {
      "text/plain": [
       "<sqlite3.Cursor at 0x7fcfb808fc70>"
      ]
     },
     "execution_count": 35,
     "metadata": {},
     "output_type": "execute_result"
    }
   ],
   "source": [
    "con.execute(\n",
    "    \"\"\"\n",
    "    UPDATE mens_tennis\n",
    "    SET QF_Appears = 3,\n",
    "    QF_Wins = 1,\n",
    "    SF_Wins = 1,\n",
    "    F_Wins = 1,\n",
    "    US_QF_Appears = 2,\n",
    "    US_QF_Wins = 1,\n",
    "    US_SF_Wins = 1,\n",
    "    US_F_Wins = 1\n",
    "    \n",
    "    WHERE Player = 'Alcaraz, Carlos'\n",
    "    \"\"\"\n",
    ")"
   ]
  },
  {
   "cell_type": "code",
   "execution_count": 36,
   "metadata": {},
   "outputs": [
    {
     "data": {
      "text/html": [
       "<div>\n",
       "<style scoped>\n",
       "    .dataframe tbody tr th:only-of-type {\n",
       "        vertical-align: middle;\n",
       "    }\n",
       "\n",
       "    .dataframe tbody tr th {\n",
       "        vertical-align: top;\n",
       "    }\n",
       "\n",
       "    .dataframe thead th {\n",
       "        text-align: right;\n",
       "    }\n",
       "</style>\n",
       "<table border=\"1\" class=\"dataframe\">\n",
       "  <thead>\n",
       "    <tr style=\"text-align: right;\">\n",
       "      <th></th>\n",
       "      <th>index</th>\n",
       "      <th>Player</th>\n",
       "      <th>QF_Appears</th>\n",
       "      <th>QF_Wins</th>\n",
       "      <th>SF_Wins</th>\n",
       "      <th>F_Wins</th>\n",
       "      <th>Aus_QF_Appears</th>\n",
       "      <th>Aus_QF_Wins</th>\n",
       "      <th>Aus_SF_Wins</th>\n",
       "      <th>Aus_F_Wins</th>\n",
       "      <th>...</th>\n",
       "      <th>Fr_SF_Wins</th>\n",
       "      <th>Fr_F_Wins</th>\n",
       "      <th>Wim_QF_Appears</th>\n",
       "      <th>Wim_QF_Wins</th>\n",
       "      <th>Wim_SF_Wins</th>\n",
       "      <th>Wim_F_Wins</th>\n",
       "      <th>US_QF_Appears</th>\n",
       "      <th>US_QF_Wins</th>\n",
       "      <th>US_SF_Wins</th>\n",
       "      <th>US_F_Wins</th>\n",
       "    </tr>\n",
       "  </thead>\n",
       "  <tbody>\n",
       "    <tr>\n",
       "      <th>0</th>\n",
       "      <td>343</td>\n",
       "      <td>Sinner, Jannik</td>\n",
       "      <td>3</td>\n",
       "      <td>0</td>\n",
       "      <td>0</td>\n",
       "      <td>0</td>\n",
       "      <td>1</td>\n",
       "      <td>0</td>\n",
       "      <td>0</td>\n",
       "      <td>0</td>\n",
       "      <td>...</td>\n",
       "      <td>0</td>\n",
       "      <td>0</td>\n",
       "      <td>1</td>\n",
       "      <td>0</td>\n",
       "      <td>0</td>\n",
       "      <td>0</td>\n",
       "      <td>0</td>\n",
       "      <td>0</td>\n",
       "      <td>0</td>\n",
       "      <td>0</td>\n",
       "    </tr>\n",
       "  </tbody>\n",
       "</table>\n",
       "<p>1 rows × 22 columns</p>\n",
       "</div>"
      ],
      "text/plain": [
       "   index          Player  QF_Appears  QF_Wins  SF_Wins  F_Wins  \\\n",
       "0    343  Sinner, Jannik           3        0        0       0   \n",
       "\n",
       "   Aus_QF_Appears  Aus_QF_Wins  Aus_SF_Wins  Aus_F_Wins  ...  Fr_SF_Wins  \\\n",
       "0               1            0            0           0  ...           0   \n",
       "\n",
       "   Fr_F_Wins  Wim_QF_Appears  Wim_QF_Wins  Wim_SF_Wins  Wim_F_Wins  \\\n",
       "0          0               1            0            0           0   \n",
       "\n",
       "   US_QF_Appears  US_QF_Wins  US_SF_Wins  US_F_Wins  \n",
       "0              0           0           0          0  \n",
       "\n",
       "[1 rows x 22 columns]"
      ]
     },
     "execution_count": 36,
     "metadata": {},
     "output_type": "execute_result"
    }
   ],
   "source": [
    "pd.read_sql(\n",
    "    \"\"\"\n",
    "    SELECT *\n",
    "    FROM mens_tennis\n",
    "    WHERE Player = 'Sinner, Jannik'\n",
    "    \"\"\"\n",
    ", con)"
   ]
  },
  {
   "cell_type": "code",
   "execution_count": 37,
   "metadata": {},
   "outputs": [
    {
     "data": {
      "text/plain": [
       "<sqlite3.Cursor at 0x7fcfb808f810>"
      ]
     },
     "execution_count": 37,
     "metadata": {},
     "output_type": "execute_result"
    }
   ],
   "source": [
    "con.execute(\n",
    "    \"\"\"\n",
    "    UPDATE mens_tennis\n",
    "    SET QF_Appears = 4,\n",
    "    US_QF_Appears = 1\n",
    "    \n",
    "    WHERE Player = 'Sinner, Jannik'\n",
    "    \"\"\"\n",
    ")"
   ]
  },
  {
   "cell_type": "code",
   "execution_count": 38,
   "metadata": {},
   "outputs": [
    {
     "data": {
      "text/html": [
       "<div>\n",
       "<style scoped>\n",
       "    .dataframe tbody tr th:only-of-type {\n",
       "        vertical-align: middle;\n",
       "    }\n",
       "\n",
       "    .dataframe tbody tr th {\n",
       "        vertical-align: top;\n",
       "    }\n",
       "\n",
       "    .dataframe thead th {\n",
       "        text-align: right;\n",
       "    }\n",
       "</style>\n",
       "<table border=\"1\" class=\"dataframe\">\n",
       "  <thead>\n",
       "    <tr style=\"text-align: right;\">\n",
       "      <th></th>\n",
       "      <th>index</th>\n",
       "      <th>Player</th>\n",
       "      <th>QF_Appears</th>\n",
       "      <th>QF_Wins</th>\n",
       "      <th>SF_Wins</th>\n",
       "      <th>F_Wins</th>\n",
       "      <th>Aus_QF_Appears</th>\n",
       "      <th>Aus_QF_Wins</th>\n",
       "      <th>Aus_SF_Wins</th>\n",
       "      <th>Aus_F_Wins</th>\n",
       "      <th>...</th>\n",
       "      <th>Fr_SF_Wins</th>\n",
       "      <th>Fr_F_Wins</th>\n",
       "      <th>Wim_QF_Appears</th>\n",
       "      <th>Wim_QF_Wins</th>\n",
       "      <th>Wim_SF_Wins</th>\n",
       "      <th>Wim_F_Wins</th>\n",
       "      <th>US_QF_Appears</th>\n",
       "      <th>US_QF_Wins</th>\n",
       "      <th>US_SF_Wins</th>\n",
       "      <th>US_F_Wins</th>\n",
       "    </tr>\n",
       "  </thead>\n",
       "  <tbody>\n",
       "    <tr>\n",
       "      <th>0</th>\n",
       "      <td>349</td>\n",
       "      <td>Tiafoe, Frances</td>\n",
       "      <td>1</td>\n",
       "      <td>0</td>\n",
       "      <td>0</td>\n",
       "      <td>0</td>\n",
       "      <td>1</td>\n",
       "      <td>0</td>\n",
       "      <td>0</td>\n",
       "      <td>0</td>\n",
       "      <td>...</td>\n",
       "      <td>0</td>\n",
       "      <td>0</td>\n",
       "      <td>0</td>\n",
       "      <td>0</td>\n",
       "      <td>0</td>\n",
       "      <td>0</td>\n",
       "      <td>0</td>\n",
       "      <td>0</td>\n",
       "      <td>0</td>\n",
       "      <td>0</td>\n",
       "    </tr>\n",
       "  </tbody>\n",
       "</table>\n",
       "<p>1 rows × 22 columns</p>\n",
       "</div>"
      ],
      "text/plain": [
       "   index           Player  QF_Appears  QF_Wins  SF_Wins  F_Wins  \\\n",
       "0    349  Tiafoe, Frances           1        0        0       0   \n",
       "\n",
       "   Aus_QF_Appears  Aus_QF_Wins  Aus_SF_Wins  Aus_F_Wins  ...  Fr_SF_Wins  \\\n",
       "0               1            0            0           0  ...           0   \n",
       "\n",
       "   Fr_F_Wins  Wim_QF_Appears  Wim_QF_Wins  Wim_SF_Wins  Wim_F_Wins  \\\n",
       "0          0               0            0            0           0   \n",
       "\n",
       "   US_QF_Appears  US_QF_Wins  US_SF_Wins  US_F_Wins  \n",
       "0              0           0           0          0  \n",
       "\n",
       "[1 rows x 22 columns]"
      ]
     },
     "execution_count": 38,
     "metadata": {},
     "output_type": "execute_result"
    }
   ],
   "source": [
    "pd.read_sql(\n",
    "    \"\"\"\n",
    "    SELECT *\n",
    "    FROM mens_tennis\n",
    "    WHERE Player = 'Tiafoe, Frances'\n",
    "    \"\"\"\n",
    ", con)"
   ]
  },
  {
   "cell_type": "code",
   "execution_count": 39,
   "metadata": {},
   "outputs": [
    {
     "data": {
      "text/plain": [
       "<sqlite3.Cursor at 0x7fcfb808ff10>"
      ]
     },
     "execution_count": 39,
     "metadata": {},
     "output_type": "execute_result"
    }
   ],
   "source": [
    "con.execute(\n",
    "    \"\"\"\n",
    "    UPDATE mens_tennis\n",
    "    SET QF_Appears = 2,\n",
    "    QF_Wins = 1,\n",
    "    US_QF_Appears = 1,\n",
    "    US_QF_Wins = 1\n",
    "    \n",
    "    WHERE Player = 'Tiafoe, Frances'\n",
    "    \"\"\"\n",
    ")"
   ]
  },
  {
   "cell_type": "code",
   "execution_count": 40,
   "metadata": {},
   "outputs": [
    {
     "data": {
      "text/html": [
       "<div>\n",
       "<style scoped>\n",
       "    .dataframe tbody tr th:only-of-type {\n",
       "        vertical-align: middle;\n",
       "    }\n",
       "\n",
       "    .dataframe tbody tr th {\n",
       "        vertical-align: top;\n",
       "    }\n",
       "\n",
       "    .dataframe thead th {\n",
       "        text-align: right;\n",
       "    }\n",
       "</style>\n",
       "<table border=\"1\" class=\"dataframe\">\n",
       "  <thead>\n",
       "    <tr style=\"text-align: right;\">\n",
       "      <th></th>\n",
       "      <th>index</th>\n",
       "      <th>Player</th>\n",
       "      <th>QF_Appears</th>\n",
       "      <th>QF_Wins</th>\n",
       "      <th>SF_Wins</th>\n",
       "      <th>F_Wins</th>\n",
       "      <th>Aus_QF_Appears</th>\n",
       "      <th>Aus_QF_Wins</th>\n",
       "      <th>Aus_SF_Wins</th>\n",
       "      <th>Aus_F_Wins</th>\n",
       "      <th>...</th>\n",
       "      <th>Fr_SF_Wins</th>\n",
       "      <th>Fr_F_Wins</th>\n",
       "      <th>Wim_QF_Appears</th>\n",
       "      <th>Wim_QF_Wins</th>\n",
       "      <th>Wim_SF_Wins</th>\n",
       "      <th>Wim_F_Wins</th>\n",
       "      <th>US_QF_Appears</th>\n",
       "      <th>US_QF_Wins</th>\n",
       "      <th>US_SF_Wins</th>\n",
       "      <th>US_F_Wins</th>\n",
       "    </tr>\n",
       "  </thead>\n",
       "  <tbody>\n",
       "    <tr>\n",
       "      <th>0</th>\n",
       "      <td>211</td>\n",
       "      <td>Rublev, Andrey</td>\n",
       "      <td>5</td>\n",
       "      <td>0</td>\n",
       "      <td>0</td>\n",
       "      <td>0</td>\n",
       "      <td>1</td>\n",
       "      <td>0</td>\n",
       "      <td>0</td>\n",
       "      <td>0</td>\n",
       "      <td>...</td>\n",
       "      <td>0</td>\n",
       "      <td>0</td>\n",
       "      <td>0</td>\n",
       "      <td>0</td>\n",
       "      <td>0</td>\n",
       "      <td>0</td>\n",
       "      <td>2</td>\n",
       "      <td>0</td>\n",
       "      <td>0</td>\n",
       "      <td>0</td>\n",
       "    </tr>\n",
       "  </tbody>\n",
       "</table>\n",
       "<p>1 rows × 22 columns</p>\n",
       "</div>"
      ],
      "text/plain": [
       "   index          Player  QF_Appears  QF_Wins  SF_Wins  F_Wins  \\\n",
       "0    211  Rublev, Andrey           5        0        0       0   \n",
       "\n",
       "   Aus_QF_Appears  Aus_QF_Wins  Aus_SF_Wins  Aus_F_Wins  ...  Fr_SF_Wins  \\\n",
       "0               1            0            0           0  ...           0   \n",
       "\n",
       "   Fr_F_Wins  Wim_QF_Appears  Wim_QF_Wins  Wim_SF_Wins  Wim_F_Wins  \\\n",
       "0          0               0            0            0           0   \n",
       "\n",
       "   US_QF_Appears  US_QF_Wins  US_SF_Wins  US_F_Wins  \n",
       "0              2           0           0          0  \n",
       "\n",
       "[1 rows x 22 columns]"
      ]
     },
     "execution_count": 40,
     "metadata": {},
     "output_type": "execute_result"
    }
   ],
   "source": [
    "pd.read_sql(\n",
    "    \"\"\"\n",
    "    SELECT *\n",
    "    FROM mens_tennis\n",
    "    WHERE Player = 'Rublev, Andrey'\n",
    "    \"\"\"\n",
    ", con)"
   ]
  },
  {
   "cell_type": "code",
   "execution_count": 41,
   "metadata": {},
   "outputs": [
    {
     "data": {
      "text/plain": [
       "<sqlite3.Cursor at 0x7fcfb808f7a0>"
      ]
     },
     "execution_count": 41,
     "metadata": {},
     "output_type": "execute_result"
    }
   ],
   "source": [
    "con.execute(\n",
    "    \"\"\"\n",
    "    UPDATE mens_tennis\n",
    "    SET QF_Appears = 6,\n",
    "    US_QF_Appears = 3\n",
    "    \n",
    "    WHERE Player = 'Rublev, Andrey'\n",
    "    \"\"\"\n",
    ")"
   ]
  },
  {
   "cell_type": "code",
   "execution_count": 42,
   "metadata": {},
   "outputs": [],
   "source": [
    "con.commit()"
   ]
  },
  {
   "cell_type": "code",
   "execution_count": null,
   "metadata": {},
   "outputs": [],
   "source": []
  }
 ],
 "metadata": {
  "kernelspec": {
   "display_name": "Python 3",
   "language": "python",
   "name": "python3"
  },
  "language_info": {
   "codemirror_mode": {
    "name": "ipython",
    "version": 3
   },
   "file_extension": ".py",
   "mimetype": "text/x-python",
   "name": "python",
   "nbconvert_exporter": "python",
   "pygments_lexer": "ipython3",
   "version": "3.8.5"
  }
 },
 "nbformat": 4,
 "nbformat_minor": 4
}
