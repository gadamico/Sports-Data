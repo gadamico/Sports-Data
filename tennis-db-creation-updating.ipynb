{
 "cells": [
  {
   "cell_type": "markdown",
   "metadata": {},
   "source": [
    "## Make Tennis .db"
   ]
  },
  {
   "cell_type": "code",
   "execution_count": null,
   "metadata": {},
   "outputs": [],
   "source": [
    "import sqlite3\n",
    "\n",
    "tennis = pd.read_excel('../Sports-Data/Tennis Major Results.xlsx',\n",
    "                      sheet_name=2)\n",
    "\n",
    "tennis.head()"
   ]
  },
  {
   "cell_type": "code",
   "execution_count": null,
   "metadata": {},
   "outputs": [],
   "source": [
    "conn2 = sqlite3.connect('../Sports-Data/tennis.db')\n",
    "\n",
    "conn.execute(\n",
    "    \"\"\"SELECT *\n",
    "    FROM sqlite_master\"\"\"\n",
    ").fetchall()"
   ]
  },
  {
   "cell_type": "code",
   "execution_count": null,
   "metadata": {},
   "outputs": [],
   "source": [
    "tennis2 = tennis.rename(lambda x: x.replace(' ', '_'), axis=1)\n",
    "\n",
    "tennis2.columns"
   ]
  },
  {
   "cell_type": "code",
   "execution_count": null,
   "metadata": {},
   "outputs": [],
   "source": [
    "tennis3 = tennis2.drop(['QF_Losses', 'SF_Losses', 'F_Losses',\n",
    "                       'QF_Pct', 'SF_Pct', 'F_Pct', 'Aus_QF_Losses',\n",
    "                        'Aus_SF_Losses', 'Aus_F_Losses', 'Aus_QF_Pct',\n",
    "                        'Aus_SF_Pct', 'Aus_F_Pct', 'Fr_QF_Losses',\n",
    "                        'Fr_SF_Losses', 'Fr_F_Losses', 'Fr_QF_Pct',\n",
    "                        'Fr_SF_Pct', 'Fr_F_Pct', 'Wim_QF_Losses',\n",
    "                        'Wim_SF_Losses', 'Wim_F_Losses', 'Wim_QF_Pct',\n",
    "                        'Wim_SF_Pct', 'Wim_F_Pct', 'US_QF_Losses',\n",
    "                        'US_SF_Losses', 'US_F_Losses', 'US_QF_Pct',\n",
    "                        'US_SF_Pct', 'US_F_Pct'\n",
    "                       ], axis=1)"
   ]
  },
  {
   "cell_type": "code",
   "execution_count": null,
   "metadata": {},
   "outputs": [],
   "source": [
    "tennis3.to_sql('tennis_simple', conn2)"
   ]
  },
  {
   "cell_type": "code",
   "execution_count": null,
   "metadata": {},
   "outputs": [],
   "source": [
    "conn.execute(\n",
    "    \"\"\"SELECT *\n",
    "    FROM sqlite_master\"\"\"\n",
    ").fetchall()"
   ]
  },
  {
   "cell_type": "code",
   "execution_count": null,
   "metadata": {},
   "outputs": [],
   "source": [
    "pd.read_sql(\n",
    "    \"\"\"SELECT Player, F_Wins\n",
    "    FROM tennis\"\"\"\n",
    ", conn)"
   ]
  },
  {
   "cell_type": "code",
   "execution_count": null,
   "metadata": {},
   "outputs": [],
   "source": [
    "pd.read_sql(\n",
    "    \"\"\"SELECT *\n",
    "    FROM tennis_simple\"\"\"\n",
    ", conn2)"
   ]
  },
  {
   "cell_type": "code",
   "execution_count": null,
   "metadata": {},
   "outputs": [],
   "source": [
    "# 2021 Wimble:\n",
    "\n",
    "# Djokovic\n",
    "## Berrettini\n",
    "### Shapovalov, Hurkacz\n",
    "#### Fucsovics, Khachanov, Auger-Aliassime, Federer\n",
    "\n",
    "# 2021 US:\n",
    "\n",
    "# Medvedev\n",
    "## Djokovic\n",
    "### Zverev, Auger-Aliassime\n",
    "#### Berrettini, Harris, Alcaraz, van de Zandschulp\n",
    "\n",
    "# 2022 Aus:\n",
    "\n",
    "# Nadal\n",
    "## Medvedev\n",
    "### Berrettini, Tsitsipas\n",
    "#### Monfils, Shapovalov, Sinner, Auger-Aliassime\n",
    "\n",
    "# UPDATE HERE:\n",
    "    # Djokovic 1 F Win, 1 SF Win\n",
    "    # Berrettini 1 SF Win, 1 QF Win, 1 QF Appear\n",
    "    # Shapovalov 1 QF Win, 1 QF Appear\n",
    "    # Hurkacz 1 QF Win\n",
    "    # Fucsovics 1 QF Appear\n",
    "    # Khachanov 1 QF Appear\n",
    "    # Auger-Aliassime 1 QF Win, 2 QF Appears\n",
    "    # Federer 1 QF Appear\n",
    "    # Medvedev 1 F Win, 1 SF Win\n",
    "    # Zverev 1 QF Win\n",
    "    # Harris 1 QF Appear\n",
    "    # Alcaraz 1 QF Appear\n",
    "    # van de Zandschulp 1 QF Appear\n",
    "    # Nadal 1 F Win\n",
    "    # Tsitsipas 1 QF Win\n",
    "    # Monfils 1 QF Appear\n",
    "    # Sinner 1 QF Appear\n",
    "\n",
    "# 2022 Fr:\n",
    "\n",
    "# \n",
    "## \n",
    "### Zverev, Cilic\n",
    "#### Djokovic, Alcaraz, Rune, Rublev"
   ]
  },
  {
   "cell_type": "code",
   "execution_count": null,
   "metadata": {},
   "outputs": [],
   "source": [
    "conn2.execute(\n",
    "    \"\"\"UPDATE tennis_simple\n",
    "    SET QF_Appears = 51\n",
    "    WHERE Player = 'Djokovic, Novak'\"\"\"\n",
    ")"
   ]
  },
  {
   "cell_type": "code",
   "execution_count": null,
   "metadata": {},
   "outputs": [],
   "source": [
    "conn2.execute(\n",
    "    \"\"\"\n",
    "    SELECT *\n",
    "    FROM tennis_simple\n",
    "    WHERE Player = 'Djokovic, Novak'\n",
    "    \"\"\"\n",
    ").fetchall()"
   ]
  },
  {
   "cell_type": "code",
   "execution_count": null,
   "metadata": {},
   "outputs": [],
   "source": [
    "conn2.execute(\n",
    "    \"\"\"\n",
    "    UPDATE tennis_simple\n",
    "    SET QF_Appears = 51,\n",
    "        QF_Wins = 42,\n",
    "        SF_Wins = 31,\n",
    "        F_Wins = 20,\n",
    "        Wim_QF_Appears = 12,\n",
    "        Wim_QF_Wins = 10,\n",
    "        Wim_SF_Wins = 7,\n",
    "        Wim_F_Wins = 6,\n",
    "        US_QF_Appears = 12,\n",
    "        US_QF_Wins = 12,\n",
    "        US_SF_Wins = 9,\n",
    "        US_F_Wins = 3\n",
    "    WHERE Player = 'Djokovic, Novak'\n",
    "    \"\"\"\n",
    ")"
   ]
  },
  {
   "cell_type": "code",
   "execution_count": null,
   "metadata": {},
   "outputs": [],
   "source": [
    "conn2.execute(\n",
    "    \"\"\"\n",
    "    SELECT *\n",
    "    FROM tennis_simple\n",
    "    WHERE Player = 'Djokovic, Novak'\n",
    "    \"\"\"\n",
    ").fetchall()"
   ]
  },
  {
   "cell_type": "code",
   "execution_count": null,
   "metadata": {},
   "outputs": [],
   "source": [
    "pd.read_sql(\n",
    "    \"\"\"\n",
    "    SELECT *\n",
    "    FROM tennis_simple\n",
    "    WHERE Player = 'Djokovic, Novak'\n",
    "    \"\"\"\n",
    ", conn2)"
   ]
  },
  {
   "cell_type": "code",
   "execution_count": null,
   "metadata": {},
   "outputs": [],
   "source": [
    "pd.read_sql(\n",
    "    \"\"\"\n",
    "    SELECT *\n",
    "    FROM tennis_simple\n",
    "    WHERE Player = 'Berrettini, Matteo'\n",
    "    \"\"\"\n",
    ", conn2)"
   ]
  },
  {
   "cell_type": "code",
   "execution_count": null,
   "metadata": {},
   "outputs": [],
   "source": [
    "conn2.execute(\n",
    "    \"\"\"\n",
    "    UPDATE tennis_simple\n",
    "    SET QF_Appears = 5,\n",
    "        QF_Wins = 3,\n",
    "        SF_Wins = 1,\n",
    "        Aus_QF_Appears = 1,\n",
    "        Aus_QF_Wins = 1,\n",
    "        Wim_QF_Appears = 1,\n",
    "        Wim_QF_Wins = 1,\n",
    "        Wim_SF_Wins = 1,\n",
    "        US_QF_Appears = 2\n",
    "        \n",
    "    WHERE Player = 'Berrettini, Matteo'\n",
    "    \"\"\"\n",
    ")"
   ]
  },
  {
   "cell_type": "code",
   "execution_count": null,
   "metadata": {},
   "outputs": [],
   "source": [
    "pd.read_sql(\n",
    "    \"\"\"\n",
    "    SELECT *\n",
    "    FROM tennis_simple\n",
    "    WHERE Player = 'Berrettini, Matteo'\n",
    "    \"\"\"\n",
    ", conn2)"
   ]
  },
  {
   "cell_type": "code",
   "execution_count": null,
   "metadata": {},
   "outputs": [],
   "source": [
    "conn3 = sqlite3.connect('../Sports-Data/tennis.db')\n",
    "\n",
    "pd.read_sql(\n",
    "    \"\"\"\n",
    "    SELECT *\n",
    "    FROM tennis_simple\n",
    "    WHERE Player = 'Berrettini, Matteo'\n",
    "    \"\"\"\n",
    ", conn3)"
   ]
  },
  {
   "cell_type": "code",
   "execution_count": null,
   "metadata": {},
   "outputs": [],
   "source": [
    "conn.close()"
   ]
  },
  {
   "cell_type": "code",
   "execution_count": null,
   "metadata": {},
   "outputs": [],
   "source": [
    "conn2.close()"
   ]
  },
  {
   "cell_type": "code",
   "execution_count": null,
   "metadata": {},
   "outputs": [],
   "source": [
    "conn3.close()"
   ]
  }
 ],
 "metadata": {
  "kernelspec": {
   "display_name": "Python 3",
   "language": "python",
   "name": "python3"
  },
  "language_info": {
   "codemirror_mode": {
    "name": "ipython",
    "version": 3
   },
   "file_extension": ".py",
   "mimetype": "text/x-python",
   "name": "python",
   "nbconvert_exporter": "python",
   "pygments_lexer": "ipython3",
   "version": "3.7.2"
  }
 },
 "nbformat": 4,
 "nbformat_minor": 4
}
